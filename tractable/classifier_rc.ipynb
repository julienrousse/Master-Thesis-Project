{
 "cells": [
  {
   "cell_type": "code",
   "execution_count": 1,
   "metadata": {},
   "outputs": [],
   "source": [
    "import os\n",
    "os.environ[\"CUDA_DEVICE_ORDER\"] = \"PCI_BUS_ID\"  # so the IDs match nvidia-smi\n",
    "os.environ[\"CUDA_VISIBLE_DEVICES\"] = \"2\"  # \"0, 1\" for multiple\n",
    "# http://forums.fast.ai/t/tip-limiting-tensorflow-to-one-gpu/1995"
   ]
  },
  {
   "cell_type": "code",
   "execution_count": 2,
   "metadata": {},
   "outputs": [
    {
     "name": "stderr",
     "output_type": "stream",
     "text": [
      "Using TensorFlow backend.\n"
     ]
    }
   ],
   "source": [
    "import numpy as np\n",
    "import tensorflow as tf\n",
    "import matplotlib.pyplot as plt\n",
    "%matplotlib inline\n",
    "import pandas as pd\n",
    "import scipy\n",
    "import skimage.transform\n",
    "\n",
    "import keras\n",
    "\n",
    "from keras import backend as K  # set the data format as 'channels_first'\n",
    "\n",
    "from keras.utils.data_utils import get_file\n",
    "from keras.utils import np_utils\n",
    "from keras.utils.np_utils import to_categorical\n",
    "\n",
    "from keras import applications  # VGG model\n",
    "\n",
    "from keras.models import Sequential, Model\n",
    "from keras.layers import Input, Embedding, Reshape, merge, LSTM, Bidirectional, concatenate\n",
    "from keras.layers import TimeDistributed, Activation, SimpleRNN, GRU, GlobalAveragePooling2D\n",
    "from keras.layers.core import Flatten, Dense, Dropout, Lambda\n",
    "#from keras.regularizers import l2, activity_l2, l1, activity_l1\n",
    "\n",
    "from keras.layers.normalization import BatchNormalization\n",
    "from keras.optimizers import SGD, RMSprop, Adam\n",
    "#from keras.utils.layer_utils import layer_from_config\n",
    "from keras.metrics import categorical_crossentropy, categorical_accuracy\n",
    "\n",
    "from keras.layers.convolutional import *\n",
    "from keras.preprocessing import image, sequence\n",
    "from keras.preprocessing.image import ImageDataGenerator\n",
    "from keras.preprocessing.text import Tokenizer\n",
    "\n",
    "from keras.callbacks import ModelCheckpoint, EarlyStopping, TensorBoard  # callbacks\n",
    "\n",
    "from glob import glob\n",
    "import os\n",
    "import bcolz\n",
    "import ujson as json\n",
    "import PIL\n",
    "\n",
    "from scipy import ndimage\n",
    "from collections import defaultdict\n",
    "\n",
    "# import h5py"
   ]
  },
  {
   "cell_type": "code",
   "execution_count": 3,
   "metadata": {},
   "outputs": [],
   "source": [
    "PATH_IMAGES = \"/home/julien/tractable_images/\""
   ]
  },
  {
   "cell_type": "markdown",
   "metadata": {
    "heading_collapsed": true
   },
   "source": [
    "## Create datasets (run only once)"
   ]
  },
  {
   "cell_type": "code",
   "execution_count": 179,
   "metadata": {
    "hidden": true
   },
   "outputs": [],
   "source": [
    "df = pd.read_csv('./flwing_part-big_split.csv')\n",
    "# There are a lot of duplicates (by image_id), we need to remove them.\n",
    "df = df.drop_duplicates(\"image_id\")"
   ]
  },
  {
   "cell_type": "code",
   "execution_count": 180,
   "metadata": {
    "hidden": true
   },
   "outputs": [],
   "source": [
    "# We also remove all of the images which are in the csv file,\n",
    "# but not in the directory.\n",
    "all_images = os.listdir(PATH_IMAGES)\n",
    "s = set(list(df[\"image_id\"])) - set([x[:-4] for x in all_images])\n",
    "df = df[~df[\"image_id\"].isin(s)]"
   ]
  },
  {
   "cell_type": "code",
   "execution_count": 181,
   "metadata": {
    "hidden": true
   },
   "outputs": [
    {
     "data": {
      "text/plain": [
       "(486713, 5)"
      ]
     },
     "execution_count": 181,
     "metadata": {},
     "output_type": "execute_result"
    }
   ],
   "source": [
    "# Check that the csv contains the same number of images\n",
    "# as the directory: 486713.\n",
    "df.shape"
   ]
  },
  {
   "cell_type": "code",
   "execution_count": 182,
   "metadata": {
    "hidden": true
   },
   "outputs": [],
   "source": [
    "df = df.drop([\"b'imbag_id'\", \"set:\"], axis=1)"
   ]
  },
  {
   "cell_type": "code",
   "execution_count": 183,
   "metadata": {
    "hidden": true
   },
   "outputs": [],
   "source": [
    "df_flwing = df[df['flwing']==1]\n",
    "df_not_flwing = df[df['flwing']==0]"
   ]
  },
  {
   "cell_type": "code",
   "execution_count": 184,
   "metadata": {
    "hidden": true
   },
   "outputs": [],
   "source": [
    "val1 = df_flwing.sample(5000)\n",
    "val2 = df_not_flwing.sample(5000)\n",
    "val = pd.concat([val1, val2])\n",
    "#del val1; del val2\n",
    "\n",
    "df_flwing = df_flwing.drop(val1.index)\n",
    "df_not_flwing = df_not_flwing.drop(val2.index)"
   ]
  },
  {
   "cell_type": "code",
   "execution_count": 185,
   "metadata": {
    "hidden": true
   },
   "outputs": [],
   "source": [
    "test1 = df_flwing.sample(5000)\n",
    "test2 = df_not_flwing.sample(5000)\n",
    "test = pd.concat([test1, test2])\n",
    "#del val1; del val2\n",
    "\n",
    "df_flwing = df_flwing.drop(test1.index)\n",
    "df_not_flwing = df_not_flwing.drop(test2.index)"
   ]
  },
  {
   "cell_type": "code",
   "execution_count": 213,
   "metadata": {
    "hidden": true,
    "scrolled": true
   },
   "outputs": [],
   "source": [
    "for image in list(val1[\"image_id\"]):\n",
    "    os.rename(PATH_IMAGES+\"{}.jpg\".format(image),\n",
    "             PATH_IMAGES+\"val/flwing/{}.jpg\".format(image))\n",
    "\n",
    "for image in list(val2[\"image_id\"]):\n",
    "    os.rename(PATH_IMAGES+\"{}.jpg\".format(image),\n",
    "             PATH_IMAGES+\"val/not_flwing/{}.jpg\".format(image))"
   ]
  },
  {
   "cell_type": "code",
   "execution_count": 212,
   "metadata": {
    "hidden": true,
    "scrolled": true
   },
   "outputs": [],
   "source": [
    "for image in list(test1[\"image_id\"]):\n",
    "    os.rename(PATH_IMAGES+\"{}.jpg\".format(image),\n",
    "             PATH_IMAGES+\"test/flwing/{}.jpg\".format(image))\n",
    "\n",
    "for image in list(test2[\"image_id\"]):\n",
    "    os.rename(PATH_IMAGES+\"{}.jpg\".format(image),\n",
    "             PATH_IMAGES+\"test/not_flwing/{}.jpg\".format(image))"
   ]
  },
  {
   "cell_type": "code",
   "execution_count": 206,
   "metadata": {
    "hidden": true
   },
   "outputs": [],
   "source": [
    "for image in list(df_flwing[\"image_id\"]):\n",
    "    os.rename(PATH_IMAGES+\"{}.jpg\".format(image),\n",
    "             PATH_IMAGES+\"train/flwing/{}.jpg\".format(image))\n",
    "\n",
    "for image in list(df_not_flwing[\"image_id\"]):\n",
    "    os.rename(PATH_IMAGES+\"{}.jpg\".format(image),\n",
    "             PATH_IMAGES+\"train/not_flwing/{}.jpg\".format(image))"
   ]
  },
  {
   "cell_type": "markdown",
   "metadata": {
    "heading_collapsed": true,
    "hidden": true
   },
   "source": [
    "### Visualization (useful cells, keep them for later)"
   ]
  },
  {
   "cell_type": "code",
   "execution_count": 7,
   "metadata": {
    "hidden": true
   },
   "outputs": [],
   "source": [
    "# dossier avec les images.\n",
    "# ./tractable_images"
   ]
  },
  {
   "cell_type": "code",
   "execution_count": 84,
   "metadata": {
    "hidden": true
   },
   "outputs": [],
   "source": [
    "import matplotlib.pyplot as plt"
   ]
  },
  {
   "cell_type": "code",
   "execution_count": 85,
   "metadata": {
    "hidden": true
   },
   "outputs": [
    {
     "data": {
      "text/plain": [
       "<matplotlib.image.AxesImage at 0x7fb2f854d518>"
      ]
     },
     "execution_count": 85,
     "metadata": {},
     "output_type": "execute_result"
    },
    {
     "data": {
      "image/png": "[encoded data removed]",
      "text/plain": [
       "<Figure size 432x288 with 1 Axes>"
      ]
     },
     "metadata": {},
     "output_type": "display_data"
    }
   ],
   "source": [
    "index = 25\n",
    "image = plt.imread('./tractable_images/{}.jpg'.format(df.iloc[index]['image_id']))\n",
    "plt.imshow(image)"
   ]
  },
  {
   "cell_type": "markdown",
   "metadata": {},
   "source": [
    "## Classifier (resize)"
   ]
  },
  {
   "cell_type": "code",
   "execution_count": 4,
   "metadata": {},
   "outputs": [],
   "source": [
    "batch_size = 64\n",
    "target_size = (224,224)"
   ]
  },
  {
   "cell_type": "code",
   "execution_count": 6,
   "metadata": {},
   "outputs": [],
   "source": [
    "# From\n",
    "# https://jkjung-avt.github.io/keras-image-cropping/\n",
    "\n",
    "def random_crop(img, random_crop_size):\n",
    "    # Note: image_data_format is 'channel_last'\n",
    "    assert img.shape[2] == 3\n",
    "    height, width = img.shape[0], img.shape[1]\n",
    "    dy, dx = random_crop_size\n",
    "    x = np.random.randint(0, width - dx + 1)\n",
    "    y = np.random.randint(0, height - dy + 1)\n",
    "    return img[y:(y+dy), x:(x+dx), :]\n",
    "\n",
    "\n",
    "def crop_generator(batches, crop_length):\n",
    "    '''\n",
    "    Take as input a Keras ImageGen (Iterator) and generate random\n",
    "    crops from the image batches generated by the original iterator\n",
    "    '''\n",
    "    while True:\n",
    "        batch_x, batch_y = next(batches)\n",
    "        batch_crops = np.zeros((batch_x.shape[0], crop_length, crop_length, 3))\n",
    "        for i in range(batch_x.shape[0]):\n",
    "            batch_crops[i] = random_crop(batch_x[i], (crop_length, crop_length))\n",
    "        yield (batch_crops, batch_y)"
   ]
  },
  {
   "cell_type": "code",
   "execution_count": 29,
   "metadata": {},
   "outputs": [
    {
     "name": "stdout",
     "output_type": "stream",
     "text": [
      "Found 466713 images belonging to 2 classes.\n"
     ]
    }
   ],
   "source": [
    "train_datagen = ImageDataGenerator(\n",
    "        rescale=1./255,\n",
    "        #featurewise_center=True,\n",
    "        #featurewise_std_normalization=True,\n",
    "        width_shift_range=0.125,\n",
    "        height_shift_range=0.125,\n",
    "        fill_mode='constant', cval=0.,\n",
    "        shear_range=0.2,\n",
    "        zoom_range=(0.7, 1.2),\n",
    "        rotation_range=25\n",
    ")\n",
    "\n",
    "train_generator = train_datagen.flow_from_directory(\n",
    "    directory=PATH_IMAGES+\"train/\",\n",
    "    target_size=(480,640),\n",
    "    color_mode=\"rgb\",\n",
    "    batch_size=batch_size,\n",
    "    class_mode=\"categorical\",\n",
    "    shuffle=True\n",
    ")\n",
    "\n",
    "train_crops = crop_generator(train_generator, 224)"
   ]
  },
  {
   "cell_type": "code",
   "execution_count": 17,
   "metadata": {},
   "outputs": [],
   "source": [
    "# x_batch, y_batch = next(train_generator)"
   ]
  },
  {
   "cell_type": "code",
   "execution_count": 18,
   "metadata": {},
   "outputs": [
    {
     "data": {
      "text/plain": [
       "<matplotlib.image.AxesImage at 0x7f7762d5e4a8>"
      ]
     },
     "execution_count": 18,
     "metadata": {},
     "output_type": "execute_result"
    },
    {
     "data": {
      "image/png": "[encoded data removed]",
      "text/plain": [
       "<Figure size 432x288 with 1 Axes>"
      ]
     },
     "metadata": {},
     "output_type": "display_data"
    }
   ],
   "source": [
    "# plt.imshow(x_batch[0])"
   ]
  },
  {
   "cell_type": "code",
   "execution_count": 30,
   "metadata": {},
   "outputs": [
    {
     "name": "stdout",
     "output_type": "stream",
     "text": [
      "Found 10000 images belonging to 2 classes.\n"
     ]
    }
   ],
   "source": [
    "valid_datagen = ImageDataGenerator(\n",
    "        rescale=1./255,\n",
    "        #featurewise_center=True,\n",
    "        #featurewise_std_normalization=True,\n",
    "        width_shift_range=0.125,\n",
    "        height_shift_range=0.125,\n",
    "        fill_mode='constant', cval=0.,\n",
    "        shear_range=0.2,\n",
    "        zoom_range=(0.7, 1.2),\n",
    "        rotation_range=25\n",
    ")\n",
    "\n",
    "valid_generator = valid_datagen.flow_from_directory(\n",
    "    directory=PATH_IMAGES+\"val/\",\n",
    "    target_size=(480,640),\n",
    "    color_mode=\"rgb\",\n",
    "    batch_size=batch_size,\n",
    "    class_mode=\"categorical\",\n",
    "    shuffle=True\n",
    ")\n",
    "\n",
    "valid_crops = crop_generator(valid_generator, 224)"
   ]
  },
  {
   "cell_type": "code",
   "execution_count": 57,
   "metadata": {},
   "outputs": [
    {
     "name": "stdout",
     "output_type": "stream",
     "text": [
      "Found 10000 images belonging to 2 classes.\n"
     ]
    }
   ],
   "source": [
    "test_datagen = ImageDataGenerator(rescale=1./255)\n",
    "\n",
    "test_generator = test_datagen.flow_from_directory(\n",
    "    directory=PATH_IMAGES+\"test/\",\n",
    "    target_size=(480,640),\n",
    "    color_mode=\"rgb\",\n",
    "    batch_size=batch_size,\n",
    "    class_mode=\"categorical\",\n",
    "    shuffle=False\n",
    ")\n",
    "\n",
    "test_crops = crop_generator(test_generator, 224)"
   ]
  },
  {
   "cell_type": "code",
   "execution_count": 219,
   "metadata": {},
   "outputs": [
    {
     "data": {
      "text/plain": [
       "466713"
      ]
     },
     "execution_count": 219,
     "metadata": {},
     "output_type": "execute_result"
    }
   ],
   "source": [
    "train_generator.n"
   ]
  },
  {
   "cell_type": "code",
   "execution_count": 43,
   "metadata": {},
   "outputs": [
    {
     "name": "stdout",
     "output_type": "stream",
     "text": [
      "1 input_4\n",
      "2 block1_conv1\n",
      "3 block1_conv2\n",
      "4 block1_pool\n",
      "5 block2_conv1\n",
      "6 block2_conv2\n",
      "7 block2_pool\n",
      "8 block3_conv1\n",
      "9 block3_conv2\n",
      "10 block3_conv3\n",
      "11 block3_pool\n",
      "12 block4_conv1\n",
      "13 block4_conv2\n",
      "14 block4_conv3\n",
      "15 block4_pool\n",
      "16 block5_conv1\n",
      "17 block5_conv2\n",
      "18 block5_conv3\n",
      "19 block5_pool\n"
     ]
    }
   ],
   "source": [
    "base_model = applications.VGG16(include_top=False, weights='imagenet')#, input_shape=(3,)+target_size)\n",
    "\n",
    "i=0\n",
    "for layer in base_model.layers:\n",
    "    layer.trainable = False\n",
    "    i = i+1\n",
    "    print(i,layer.name)"
   ]
  },
  {
   "cell_type": "code",
   "execution_count": 44,
   "metadata": {},
   "outputs": [],
   "source": [
    "x = base_model.output\n",
    "#x = Dense(128, activation='relu')(x)\n",
    "x = GlobalAveragePooling2D()(x)\n",
    "#x = Dropout(0.2)(x)\n",
    "x = Dense(128, activation='relu')(x)\n",
    "x = Dropout(0.2)(x)\n",
    "x = Dense(128, activation='relu')(x)\n",
    "x = Dropout(0.2)(x)\n",
    "predictions = Dense(2, activation='sigmoid')(x)"
   ]
  },
  {
   "cell_type": "code",
   "execution_count": 313,
   "metadata": {},
   "outputs": [],
   "source": [
    "# nf=128; p=0.5\n",
    "# x = base_model.output\n",
    "# #print(x.shape[1:])\n",
    "# #x = BatchNormalization(axis=1, input_shape=x.shape[1:])(x)\n",
    "# x = Convolution2D(nf,(3,3), activation='relu', padding='same')(x)\n",
    "# x = Dropout(p)(x)\n",
    "# #x = BatchNormalization(axis=1, input_shape=x.shape)(x)\n",
    "# x = Convolution2D(nf,(3,3), activation='relu', padding='same')(x)\n",
    "# x = Dropout(p)(x)\n",
    "# #x = BatchNormalization(axis=1)(x)\n",
    "# x = Convolution2D(nf,(3,3), activation='relu', padding='same')(x)\n",
    "# x = Dropout(p)(x)\n",
    "# #x = BatchNormalization(axis=1)(x)\n",
    "# x = Convolution2D(2,(3,3), padding='same')(x)\n",
    "# x = Dropout(p)(x)\n",
    "# predictions = GlobalAveragePooling2D()(x)\n",
    "# #x = GlobalAveragePooling2D()(x)\n",
    "# #predictions = Activation('sigmoid')(x)"
   ]
  },
  {
   "cell_type": "code",
   "execution_count": 45,
   "metadata": {},
   "outputs": [],
   "source": [
    "from PIL import ImageFile\n",
    "ImageFile.LOAD_TRUNCATED_IMAGES = True"
   ]
  },
  {
   "cell_type": "code",
   "execution_count": 46,
   "metadata": {},
   "outputs": [],
   "source": [
    "class_weight = {0: 5., 1: 1.}"
   ]
  },
  {
   "cell_type": "code",
   "execution_count": 47,
   "metadata": {},
   "outputs": [],
   "source": [
    "#checkpointer = ModelCheckpoint(filepath=path+'results/models/top_model_high_res_640.hdf5',\n",
    "#                               verbose=1, save_best_only=True)\n",
    "checkpointer = ModelCheckpoint(filepath=\"classifier_rc.hdf5\",\n",
    "                               verbose=1, save_best_only=True)    \n",
    "earlystop = EarlyStopping(monitor=\"val_loss\", patience=10)\n",
    "tensorboard = TensorBoard(log_dir=\"rc_logs\")\n",
    "callbacks_list = [checkpointer, earlystop, tensorboard]"
   ]
  },
  {
   "cell_type": "code",
   "execution_count": 48,
   "metadata": {
    "scrolled": true
   },
   "outputs": [
    {
     "name": "stdout",
     "output_type": "stream",
     "text": [
      "Epoch 1/100\n",
      "  99/1823 [>.............................] - ETA: 1:47:05 - loss: 0.9323 - acc: 0.8037"
     ]
    },
    {
     "name": "stderr",
     "output_type": "stream",
     "text": [
      "/home/julien/miniconda3/envs/project/lib/python3.6/site-packages/PIL/JpegImagePlugin.py:790: UserWarning: Image appears to be a malformed MPO file, it will be interpreted as a base JPEG file\n",
      "  warnings.warn(\"Image appears to be a malformed MPO file, it will be \"\n"
     ]
    },
    {
     "name": "stdout",
     "output_type": "stream",
     "text": [
      " 349/1823 [====>.........................] - ETA: 1:31:51 - loss: 0.8644 - acc: 0.7933"
     ]
    },
    {
     "name": "stderr",
     "output_type": "stream",
     "text": [
      "/home/julien/miniconda3/envs/project/lib/python3.6/site-packages/PIL/TiffImagePlugin.py:739: UserWarning: Possibly corrupt EXIF data.  Expecting to read 8589934590 bytes but only got 29023. Skipping tag 34855\n",
      "  \" Skipping tag %s\" % (size, len(data), tag))\n"
     ]
    },
    {
     "name": "stdout",
     "output_type": "stream",
     "text": [
      "1008/1823 [===============>..............] - ETA: 50:05 - loss: 0.8156 - acc: 0.7922"
     ]
    },
    {
     "name": "stderr",
     "output_type": "stream",
     "text": [
      "/home/julien/miniconda3/envs/project/lib/python3.6/site-packages/PIL/TiffImagePlugin.py:739: UserWarning: Possibly corrupt EXIF data.  Expecting to read 16843011 bytes but only got 0. Skipping tag 64249\n",
      "  \" Skipping tag %s\" % (size, len(data), tag))\n",
      "/home/julien/miniconda3/envs/project/lib/python3.6/site-packages/PIL/TiffImagePlugin.py:756: UserWarning: Corrupt EXIF data.  Expecting to read 12 bytes but only got 1. \n",
      "  warnings.warn(str(msg))\n"
     ]
    },
    {
     "name": "stdout",
     "output_type": "stream",
     "text": [
      "1623/1823 [=========================>....] - ETA: 12:13 - loss: 0.7926 - acc: 0.7985"
     ]
    },
    {
     "name": "stderr",
     "output_type": "stream",
     "text": [
      "/home/julien/miniconda3/envs/project/lib/python3.6/site-packages/PIL/Image.py:2514: DecompressionBombWarning: Image size (139201551 pixels) exceeds limit of 89478485 pixels, could be decompression bomb DOS attack.\n",
      "  DecompressionBombWarning)\n"
     ]
    },
    {
     "name": "stdout",
     "output_type": "stream",
     "text": [
      "1823/1823 [==============================] - 6873s 4s/step - loss: 0.7871 - acc: 0.8000 - val_loss: 0.5399 - val_acc: 0.7272\n",
      "\n",
      "Epoch 00001: val_loss improved from inf to 0.53989, saving model to classifier_rc.hdf5\n",
      "Epoch 2/100\n",
      "1291/1823 [====================>.........] - ETA: 31:55 - loss: 0.7409 - acc: 0.8115"
     ]
    },
    {
     "name": "stderr",
     "output_type": "stream",
     "text": [
      "IOPub message rate exceeded.\n",
      "The notebook server will temporarily stop sending output\n",
      "to the client in order to avoid crashing it.\n",
      "To change this limit, set the config variable\n",
      "`--NotebookApp.iopub_msg_rate_limit`.\n",
      "\n",
      "Current values:\n",
      "NotebookApp.iopub_msg_rate_limit=1000.0 (msgs/sec)\n",
      "NotebookApp.rate_limit_window=3.0 (secs)\n",
      "\n"
     ]
    },
    {
     "name": "stdout",
     "output_type": "stream",
     "text": [
      "1823/1823 [==============================] - 6762s 4s/step - loss: 0.7025 - acc: 0.8254 - val_loss: 0.5201 - val_acc: 0.7542\n",
      "\n",
      "Epoch 00005: val_loss did not improve from 0.48691\n",
      "Epoch 6/100\n",
      "1823/1823 [==============================] - 6753s 4s/step - loss: 0.7003 - acc: 0.8286 - val_loss: 0.4787 - val_acc: 0.7643\n",
      "\n",
      "Epoch 00006: val_loss improved from 0.48691 to 0.47869, saving model to classifier_rc.hdf5\n",
      "Epoch 7/100\n",
      "1823/1823 [==============================] - 6752s 4s/step - loss: 0.6809 - acc: 0.8301 - val_loss: 0.4748 - val_acc: 0.7626\n",
      "\n",
      "Epoch 00007: val_loss improved from 0.47869 to 0.47479, saving model to classifier_rc.hdf5\n",
      "Epoch 8/100\n",
      "1823/1823 [==============================] - 6731s 4s/step - loss: 0.6795 - acc: 0.8304 - val_loss: 0.4530 - val_acc: 0.7906\n",
      "\n",
      "Epoch 00008: val_loss improved from 0.47479 to 0.45301, saving model to classifier_rc.hdf5\n",
      "Epoch 9/100\n",
      " 333/1823 [====>.........................] - ETA: 1:27:03 - loss: 0.6700 - acc: 0.8298"
     ]
    },
    {
     "name": "stderr",
     "output_type": "stream",
     "text": [
      "IOPub message rate exceeded.\n",
      "The notebook server will temporarily stop sending output\n",
      "to the client in order to avoid crashing it.\n",
      "To change this limit, set the config variable\n",
      "`--NotebookApp.iopub_msg_rate_limit`.\n",
      "\n",
      "Current values:\n",
      "NotebookApp.iopub_msg_rate_limit=1000.0 (msgs/sec)\n",
      "NotebookApp.rate_limit_window=3.0 (secs)\n",
      "\n"
     ]
    },
    {
     "name": "stdout",
     "output_type": "stream",
     "text": [
      "1823/1823 [==============================] - 6743s 4s/step - loss: 0.6708 - acc: 0.8347 - val_loss: 0.4881 - val_acc: 0.7566\n",
      "\n",
      "Epoch 00011: val_loss did not improve from 0.44522\n",
      "Epoch 12/100\n",
      "1823/1823 [==============================] - 6736s 4s/step - loss: 0.6721 - acc: 0.8343 - val_loss: 0.4594 - val_acc: 0.7765\n",
      "\n",
      "Epoch 00012: val_loss did not improve from 0.44522\n",
      "Epoch 13/100\n",
      " 683/1823 [==========>...................] - ETA: 1:07:35 - loss: 0.6636 - acc: 0.8356"
     ]
    },
    {
     "name": "stderr",
     "output_type": "stream",
     "text": [
      "IOPub message rate exceeded.\n",
      "The notebook server will temporarily stop sending output\n",
      "to the client in order to avoid crashing it.\n",
      "To change this limit, set the config variable\n",
      "`--NotebookApp.iopub_msg_rate_limit`.\n",
      "\n",
      "Current values:\n",
      "NotebookApp.iopub_msg_rate_limit=1000.0 (msgs/sec)\n",
      "NotebookApp.rate_limit_window=3.0 (secs)\n",
      "\n"
     ]
    },
    {
     "name": "stdout",
     "output_type": "stream",
     "text": [
      "1823/1823 [==============================] - 6750s 4s/step - loss: 0.6687 - acc: 0.8348 - val_loss: 0.4747 - val_acc: 0.7784\n",
      "\n",
      "Epoch 00015: val_loss did not improve from 0.44522\n",
      "Epoch 16/100\n",
      "1823/1823 [==============================] - 6755s 4s/step - loss: 0.6586 - acc: 0.8390 - val_loss: 0.4873 - val_acc: 0.7617\n",
      "\n",
      "Epoch 00016: val_loss did not improve from 0.44522\n",
      "Epoch 17/100\n",
      "1823/1823 [==============================] - 6750s 4s/step - loss: 0.6628 - acc: 0.8370 - val_loss: 0.4553 - val_acc: 0.7912\n",
      "1823/1823 [==============================] - 6750s 4s/step - loss: 0.6628 - acc: 0.8370 - val_loss: 0.4553 - val_acc: 0.7912\n",
      "\n",
      "Epoch 00017: val_loss did not improve from 0.44522\n",
      "Epoch 18/100\n",
      "\n",
      "Epoch 00017: val_loss did not improve from 0.44522\n",
      "Epoch 18/100\n",
      "1823/1823 [==============================] - 6735s 4s/step - loss: 0.6629 - acc: 0.8339 - val_loss: 0.4826 - val_acc: 0.7723\n",
      "\n",
      "Epoch 00018: val_loss did not improve from 0.44522\n",
      "Epoch 19/100\n",
      "1823/1823 [==============================] - 6746s 4s/step - loss: 0.6504 - acc: 0.8396 - val_loss: 0.4887 - val_acc: 0.7584\n",
      "\n",
      "Epoch 00019: val_loss did not improve from 0.44522\n",
      "Epoch 20/100\n",
      "1823/1823 [==============================] - 6750s 4s/step - loss: 0.6581 - acc: 0.8358 - val_loss: 0.4538 - val_acc: 0.7858\n",
      "\n",
      "Epoch 00020: val_loss did not improve from 0.44522\n"
     ]
    },
    {
     "data": {
      "text/plain": [
       "<keras.callbacks.History at 0x7f7762bf2ef0>"
      ]
     },
     "execution_count": 48,
     "metadata": {},
     "output_type": "execute_result"
    }
   ],
   "source": [
    "model = Model(inputs=base_model.input, outputs=predictions)\n",
    "\n",
    "model.compile(loss=\"categorical_crossentropy\", optimizer=Adam(lr=0.001), metrics=[\"accuracy\"])\n",
    "\n",
    "\n",
    "STEP_SIZE_TRAIN=train_generator.n//train_generator.batch_size  # 7292\n",
    "STEP_SIZE_VALID=valid_generator.n//valid_generator.batch_size  # 156\n",
    "model.fit_generator(\n",
    "        train_crops,\n",
    "        steps_per_epoch=1823,\n",
    "        epochs=100,\n",
    "        #callbacks = callbacks_list,\n",
    "        validation_data = valid_crops,\n",
    "        validation_steps=52,\n",
    "        class_weight=class_weight,\n",
    "        callbacks=callbacks_list\n",
    "        )"
   ]
  },
  {
   "cell_type": "code",
   "execution_count": 344,
   "metadata": {},
   "outputs": [
    {
     "data": {
      "text/plain": [
       "(7292, 156)"
      ]
     },
     "execution_count": 344,
     "metadata": {},
     "output_type": "execute_result"
    }
   ],
   "source": [
    "STEP_SIZE_TRAIN, STEP_SIZE_VALID"
   ]
  },
  {
   "cell_type": "code",
   "execution_count": 49,
   "metadata": {},
   "outputs": [],
   "source": [
    "import pickle\n",
    "with open('./trainHistoryDict_rc.p', 'wb') as file_pi:\n",
    "    pickle.dump(model.history.history, file_pi)\n",
    "\n",
    "# model.save(\"./classifier_1.h5\")"
   ]
  },
  {
   "cell_type": "code",
   "execution_count": null,
   "metadata": {},
   "outputs": [],
   "source": [
    "# from keras.models import load_model"
   ]
  },
  {
   "cell_type": "code",
   "execution_count": null,
   "metadata": {},
   "outputs": [],
   "source": []
  },
  {
   "cell_type": "code",
   "execution_count": 95,
   "metadata": {},
   "outputs": [
    {
     "data": {
      "image/png": "[encoded data removed]",
      "text/plain": [
       "<Figure size 576x396 with 2 Axes>"
      ]
     },
     "metadata": {},
     "output_type": "display_data"
    }
   ],
   "source": [
    "plt.style.use('seaborn')\n",
    "# summarize history for accuracy\n",
    "plt.subplot(1, 2, 1)\n",
    "plt.plot(model.history.history['acc'])\n",
    "plt.plot(model.history.history['val_acc'])\n",
    "plt.title('Model accuracy', fontsize=16)\n",
    "plt.ylabel('Accuracy', fontsize=14)\n",
    "plt.xlabel('Epoch', fontsize=14)\n",
    "#plt.legend(['Train', 'Validation'], loc='upper left', fontsize=12)\n",
    "plt.xticks(fontsize=12)\n",
    "#plt.show()\n",
    "# summarize history for loss\n",
    "plt.subplot(1, 2, 2)\n",
    "plt.plot(model.history.history['loss'])\n",
    "plt.plot(model.history.history['val_loss'])\n",
    "plt.title('Model loss', fontsize=16)\n",
    "plt.ylabel('Loss', fontsize=14)\n",
    "plt.xlabel('Epoch', fontsize=14)\n",
    "plt.legend(['Train', 'Validation'], loc='upper right', fontsize=12)\n",
    "plt.xticks(fontsize=12)\n",
    "plt.tight_layout()\n",
    "plt.savefig(\"./visualizations/classifier_rc_training.png\", dpi=200)#bbox_inches=\"tight\", dpi=200)"
   ]
  },
  {
   "cell_type": "code",
   "execution_count": 68,
   "metadata": {},
   "outputs": [
    {
     "name": "stderr",
     "output_type": "stream",
     "text": [
      "/home/julien/miniconda3/envs/project/lib/python3.6/site-packages/PIL/JpegImagePlugin.py:790: UserWarning: Image appears to be a malformed MPO file, it will be interpreted as a base JPEG file\n",
      "  warnings.warn(\"Image appears to be a malformed MPO file, it will be \"\n"
     ]
    }
   ],
   "source": [
    "l_evaluate_test = [model.evaluate_generator(\n",
    "        test_crops,\n",
    "        steps=52,\n",
    "    ) for _ in range(100)]"
   ]
  },
  {
   "cell_type": "code",
   "execution_count": 69,
   "metadata": {},
   "outputs": [
    {
     "data": {
      "text/plain": [
       "[[0.39924346964533736, 0.8164634146341463],\n",
       " [0.3607731464390571, 0.8422475961538461],\n",
       " [0.39418747505316365, 0.8245192307692307],\n",
       " [0.4106222617916945, 0.8067073170731708],\n",
       " [0.3800657374354509, 0.8338341346153846],\n",
       " [0.3867232369688841, 0.8284254807692307],\n",
       " [0.4101942654063062, 0.8073170731707318],\n",
       " [0.38182612795096177, 0.8290264423076923],\n",
       " [0.3754729984737024, 0.8350609756097561],\n",
       " [0.40854615431565505, 0.8073918269230769],\n",
       " [0.3730027082447822, 0.8323317307692307],\n",
       " [0.3848322586315434, 0.8268292682926829],\n",
       " [0.4007258008305843, 0.8076923076923077],\n",
       " [0.38371310841578704, 0.8272235576923077],\n",
       " [0.3798635287982662, 0.8359756097560975],\n",
       " [0.3913747576566843, 0.8209134615384616],\n",
       " [0.3820155354646536, 0.8275240384615384],\n",
       " [0.385117368291064, 0.8289634146341464],\n",
       " [0.38620344205544543, 0.8218149038461539],\n",
       " [0.3815386842649717, 0.8278245192307693],\n",
       " [0.37511438741916564, 0.838109756097561],\n",
       " [0.382059568969103, 0.8200120192307693],\n",
       " [0.3922520706859919, 0.8254206730769231],\n",
       " [0.38928386539947696, 0.8310975609756097],\n",
       " [0.36484535325032014, 0.8350360576923077],\n",
       " [0.38525685438743007, 0.8278245192307693],\n",
       " [0.3945469888245187, 0.8277439024390244],\n",
       " [0.3641082549897524, 0.8371394230769231],\n",
       " [0.40399162757855195, 0.8179086538461539],\n",
       " [0.39351915070196475, 0.8219512195121951],\n",
       " [0.3650596302289229, 0.8341346153846154],\n",
       " [0.40848876306643855, 0.8118990384615384],\n",
       " [0.3824752932641564, 0.823780487804878],\n",
       " [0.3575717514524093, 0.8416466346153846],\n",
       " [0.39268893060775906, 0.8230168269230769],\n",
       " [0.3894833047215531, 0.8268292682926829],\n",
       " [0.36437198462394566, 0.8323317307692307],\n",
       " [0.41271017807034344, 0.8131009615384616],\n",
       " [0.39921536111250155, 0.824390243902439],\n",
       " [0.3570025351185065, 0.8491586538461539],\n",
       " [0.4007438157613461, 0.8176081730769231],\n",
       " [0.3964643452225662, 0.813719512195122],\n",
       " [0.3563184096263005, 0.8383413461538461],\n",
       " [0.4079557731747627, 0.81640625],\n",
       " [0.39163656525495577, 0.8259146341463415],\n",
       " [0.363363843697768, 0.8338341346153846],\n",
       " [0.4063758345750662, 0.8179086538461539],\n",
       " [0.4071461911608533, 0.8185975609756098],\n",
       " [0.35286098833267504, 0.8416466346153846],\n",
       " [0.4076283998214282, 0.8140024038461539],\n",
       " [0.40111467111401444, 0.8173780487804878],\n",
       " [0.35138988953370315, 0.8500600961538461],\n",
       " [0.39879744213361007, 0.8191105769230769],\n",
       " [0.39671573973283536, 0.824390243902439],\n",
       " [0.353769334176412, 0.8410456730769231],\n",
       " [0.4015255765273021, 0.8143028846153846],\n",
       " [0.41436909538943595, 0.813719512195122],\n",
       " [0.35091040856563127, 0.8449519230769231],\n",
       " [0.3960903395827, 0.8278245192307693],\n",
       " [0.40684615751592124, 0.8128048780487804],\n",
       " [0.3430485481826159, 0.8560697115384616],\n",
       " [0.40282223430963665, 0.8191105769230769],\n",
       " [0.4096973815342275, 0.8091463414634147],\n",
       " [0.3470651275263383, 0.8449519230769231],\n",
       " [0.3890223468725498, 0.8233173076923077],\n",
       " [0.4099099025493715, 0.8076219512195122],\n",
       " [0.3696986786448039, 0.8359375],\n",
       " [0.38559301369465315, 0.8248197115384616],\n",
       " [0.40912400818452604, 0.8070121951219512],\n",
       " [0.36903302572094476, 0.8338341346153846],\n",
       " [0.38324146373913837, 0.8302283653846154],\n",
       " [0.4170291457234359, 0.8036585365853659],\n",
       " [0.3778186652522821, 0.8329326923076923],\n",
       " [0.39258281886577606, 0.8173076923076923],\n",
       " [0.41360746745656174, 0.802439024390244],\n",
       " [0.3589053735710107, 0.8413461538461539],\n",
       " [0.37685064426981485, 0.8284254807692307],\n",
       " [0.4010425271057501, 0.8097560975609757],\n",
       " [0.36804079149778074, 0.8383413461538461],\n",
       " [0.37643569192061055, 0.8293269230769231],\n",
       " [0.4080274169037982, 0.8143292682926829],\n",
       " [0.37443206860468936, 0.8323317307692307],\n",
       " [0.386579634478459, 0.8182091346153846],\n",
       " [0.410256338264884, 0.8076219512195122],\n",
       " [0.38621831226807374, 0.8299278846153846],\n",
       " [0.3743448486694923, 0.8317307692307693],\n",
       " [0.4013570145918773, 0.8088942307692307],\n",
       " [0.37297222648675626, 0.8392427884615384],\n",
       " [0.39044460588839, 0.8246951219512195],\n",
       " [0.40278604512031263, 0.8128004807692307],\n",
       " [0.3894181864765974, 0.8218149038461539],\n",
       " [0.3853661263861307, 0.8222560975609756],\n",
       " [0.3967368407891347, 0.8140024038461539],\n",
       " [0.38247012117734325, 0.8305288461538461],\n",
       " [0.3805268744143044, 0.8304878048780487],\n",
       " [0.39157037608898604, 0.8203125],\n",
       " [0.3967741418343324, 0.8112980769230769],\n",
       " [0.39228514491057975, 0.8262195121951219],\n",
       " [0.39000175062280434, 0.8230168269230769],\n",
       " [0.40351201078066457, 0.8137019230769231]]"
      ]
     },
     "execution_count": 69,
     "metadata": {},
     "output_type": "execute_result"
    }
   ],
   "source": [
    "l_evaluate_test"
   ]
  },
  {
   "cell_type": "code",
   "execution_count": 73,
   "metadata": {},
   "outputs": [
    {
     "name": "stderr",
     "output_type": "stream",
     "text": [
      "/home/julien/miniconda3/envs/project/lib/python3.6/site-packages/PIL/JpegImagePlugin.py:790: UserWarning: Image appears to be a malformed MPO file, it will be interpreted as a base JPEG file\n",
      "  warnings.warn(\"Image appears to be a malformed MPO file, it will be \"\n"
     ]
    }
   ],
   "source": [
    "l_evaluate_test2 = [model.evaluate_generator(\n",
    "        test_crops,\n",
    "        steps=156,\n",
    "    ) for _ in range(10)]"
   ]
  },
  {
   "cell_type": "code",
   "execution_count": null,
   "metadata": {},
   "outputs": [],
   "source": []
  },
  {
   "cell_type": "code",
   "execution_count": 74,
   "metadata": {},
   "outputs": [
    {
     "name": "stdout",
     "output_type": "stream",
     "text": [
      "Found 10000 images belonging to 2 classes.\n"
     ]
    }
   ],
   "source": [
    "test_datagen_heatmaps_150 = ImageDataGenerator(rescale=1./255)\n",
    "\n",
    "test_generator_heatmaps_150 = test_datagen_heatmaps_150.flow_from_directory(\n",
    "    directory=\"/home/julien/crops_heatmaps/\",\n",
    "    target_size=target_size,\n",
    "    color_mode=\"rgb\",\n",
    "    batch_size=batch_size,\n",
    "    class_mode=\"categorical\",\n",
    "    shuffle=False\n",
    ")\n",
    "\n",
    "test_crops_heatmaps_150 = crop_generator(test_generator_heatmaps_150, 224)"
   ]
  },
  {
   "cell_type": "code",
   "execution_count": 75,
   "metadata": {},
   "outputs": [],
   "source": [
    "l_evaluate_test_heatmaps_150 = [model.evaluate_generator(\n",
    "        test_crops_heatmaps_150,\n",
    "        steps=156\n",
    ") for _ in range(10)]"
   ]
  },
  {
   "cell_type": "code",
   "execution_count": null,
   "metadata": {},
   "outputs": [],
   "source": []
  },
  {
   "cell_type": "code",
   "execution_count": 76,
   "metadata": {},
   "outputs": [
    {
     "name": "stdout",
     "output_type": "stream",
     "text": [
      "Found 10000 images belonging to 2 classes.\n"
     ]
    }
   ],
   "source": [
    "test_datagen_heatmaps_100 = ImageDataGenerator(rescale=1./255)\n",
    "\n",
    "test_generator_heatmaps_100 = test_datagen_heatmaps_100.flow_from_directory(\n",
    "    directory=\"/home/julien/crops_heatmaps_2/\",\n",
    "    target_size=target_size,\n",
    "    color_mode=\"rgb\",\n",
    "    batch_size=batch_size,\n",
    "    class_mode=\"categorical\",\n",
    "    shuffle=False\n",
    ")\n",
    "\n",
    "test_crops_heatmaps_100 = crop_generator(test_generator_heatmaps_100, 224)"
   ]
  },
  {
   "cell_type": "code",
   "execution_count": 77,
   "metadata": {},
   "outputs": [],
   "source": [
    "l_evaluate_test_heatmaps_100 = [model.evaluate_generator(\n",
    "        test_crops_heatmaps_100,\n",
    "        steps=156\n",
    ") for _ in range(10)]"
   ]
  },
  {
   "cell_type": "code",
   "execution_count": null,
   "metadata": {},
   "outputs": [],
   "source": []
  },
  {
   "cell_type": "code",
   "execution_count": 78,
   "metadata": {},
   "outputs": [
    {
     "name": "stdout",
     "output_type": "stream",
     "text": [
      "Found 10000 images belonging to 2 classes.\n"
     ]
    }
   ],
   "source": [
    "test_datagen_heatmaps_50 = ImageDataGenerator(rescale=1./255)\n",
    "\n",
    "test_generator_heatmaps_50 = test_datagen_heatmaps_50.flow_from_directory(\n",
    "    directory=\"/home/julien/crops_heatmaps_3/\",\n",
    "    target_size=target_size,\n",
    "    color_mode=\"rgb\",\n",
    "    batch_size=batch_size,\n",
    "    class_mode=\"categorical\",\n",
    "    shuffle=False\n",
    ")\n",
    "\n",
    "test_crops_heatmaps_50 = crop_generator(test_generator_heatmaps_50, 224)"
   ]
  },
  {
   "cell_type": "code",
   "execution_count": 79,
   "metadata": {},
   "outputs": [],
   "source": [
    "l_evaluate_test_heatmaps_50 = [model.evaluate_generator(\n",
    "        test_crops_heatmaps_50,\n",
    "        steps=156\n",
    ") for _ in range(10)]"
   ]
  },
  {
   "cell_type": "code",
   "execution_count": null,
   "metadata": {},
   "outputs": [],
   "source": []
  },
  {
   "cell_type": "code",
   "execution_count": 80,
   "metadata": {},
   "outputs": [
    {
     "data": {
      "text/plain": [
       "[[0.3796156879976368, 0.8286030595813204],\n",
       " [0.38581747992411136, 0.8265901771336553],\n",
       " [0.39099055950960293, 0.8240740740740741],\n",
       " [0.386785698397724, 0.8275966183574879],\n",
       " [0.3842784809893456, 0.8250805152979066],\n",
       " [0.3899495827211082, 0.8260869565217391],\n",
       " [0.38543964365734185, 0.8237721417069244],\n",
       " [0.385255296593127, 0.8272946859903382],\n",
       " [0.38738786775900735, 0.8269927536231884],\n",
       " [0.387120111696962, 0.8230676328502415]]"
      ]
     },
     "execution_count": 80,
     "metadata": {},
     "output_type": "execute_result"
    }
   ],
   "source": [
    "l_evaluate_test2"
   ]
  },
  {
   "cell_type": "code",
   "execution_count": 84,
   "metadata": {},
   "outputs": [
    {
     "name": "stdout",
     "output_type": "stream",
     "text": [
      "Loss\n",
      "Mean: 0.38626404092459665\n",
      "Std: 0.0029703673899726005\n",
      "\n",
      "Accuracy\n",
      "Mean: 0.8259158615136876\n",
      "Std: 0.0017432363877231882\n"
     ]
    }
   ],
   "source": [
    "losses = [x[0] for x in l_evaluate_test2]\n",
    "accuracies = [x[1] for x in l_evaluate_test2]\n",
    "\n",
    "print(\"Loss\")\n",
    "print(\"Mean:\", np.mean(losses))\n",
    "print(\"Std:\", np.std(losses))\n",
    "print(\"\\nAccuracy\")\n",
    "print(\"Mean:\", np.mean(accuracies))\n",
    "print(\"Std:\", np.std(accuracies))"
   ]
  },
  {
   "cell_type": "code",
   "execution_count": 81,
   "metadata": {},
   "outputs": [
    {
     "data": {
      "text/plain": [
       "[[0.39494755319677866, 0.8129006410256411],\n",
       " [0.39539749294087506, 0.8123993558776168],\n",
       " [0.39581626653671265, 0.812097423510467],\n",
       " [0.3941661396848215, 0.8134057971014492],\n",
       " [0.3957435233389506, 0.8123993558776168],\n",
       " [0.396099002081031, 0.8117954911433173],\n",
       " [0.3960134936031704, 0.8121980676328503],\n",
       " [0.3963175194274976, 0.8118961352657005],\n",
       " [0.3961983206959354, 0.8121980676328503],\n",
       " [0.3944204428537648, 0.813305152979066]]"
      ]
     },
     "execution_count": 81,
     "metadata": {},
     "output_type": "execute_result"
    }
   ],
   "source": [
    "l_evaluate_test_heatmaps_150"
   ]
  },
  {
   "cell_type": "code",
   "execution_count": 119,
   "metadata": {},
   "outputs": [
    {
     "name": "stdout",
     "output_type": "stream",
     "text": [
      "Loss\n",
      "Mean: 0.3955119754359538\n",
      "Std: 0.0007208810685844491\n",
      "\n",
      "Accuracy\n",
      "Mean: 0.8124595488046575\n",
      "Std: 0.0005327783696696647\n"
     ]
    }
   ],
   "source": [
    "losses_heatmaps_150 = [x[0] for x in l_evaluate_test_heatmaps_150]\n",
    "accuracies_heatmaps_150 = [x[1] for x in l_evaluate_test_heatmaps_150]\n",
    "\n",
    "print(\"Loss\")\n",
    "print(\"Mean:\", np.mean(losses_heatmaps_150))\n",
    "print(\"Std:\", np.std(losses_heatmaps_150))\n",
    "print(\"\\nAccuracy\")\n",
    "print(\"Mean:\", np.mean(accuracies_heatmaps_150))\n",
    "print(\"Std:\", np.std(accuracies_heatmaps_150))"
   ]
  },
  {
   "cell_type": "code",
   "execution_count": 82,
   "metadata": {},
   "outputs": [
    {
     "data": {
      "text/plain": [
       "[[0.3432177075017721, 0.842948717948718],\n",
       " [0.3441606820973413, 0.8421900161030595],\n",
       " [0.34438043088920645, 0.8422906602254429],\n",
       " [0.3438257659978913, 0.8427938808373591],\n",
       " [0.3440601904899026, 0.8420893719806763],\n",
       " [0.3441684963526549, 0.8422906602254429],\n",
       " [0.34447592655241777, 0.8421900161030595],\n",
       " [0.34453946510374833, 0.8420893719806763],\n",
       " [0.344178115160185, 0.8424919484702094],\n",
       " [0.34184708586637524, 0.8435990338164251]]"
      ]
     },
     "execution_count": 82,
     "metadata": {},
     "output_type": "execute_result"
    }
   ],
   "source": [
    "l_evaluate_test_heatmaps_100"
   ]
  },
  {
   "cell_type": "code",
   "execution_count": 120,
   "metadata": {},
   "outputs": [
    {
     "name": "stdout",
     "output_type": "stream",
     "text": [
      "Loss\n",
      "Mean: 0.3438853866011495\n",
      "Std: 0.000767973306868302\n",
      "\n",
      "Accuracy\n",
      "Mean: 0.8424973677691069\n",
      "Std: 0.0004596348191887795\n"
     ]
    }
   ],
   "source": [
    "losses_heatmaps_100 = [x[0] for x in l_evaluate_test_heatmaps_100]\n",
    "accuracies_heatmaps_100 = [x[1] for x in l_evaluate_test_heatmaps_100]\n",
    "\n",
    "print(\"Loss\")\n",
    "print(\"Mean:\", np.mean(losses_heatmaps_100))\n",
    "print(\"Std:\", np.std(losses_heatmaps_100))\n",
    "print(\"\\nAccuracy\")\n",
    "print(\"Mean:\", np.mean(accuracies_heatmaps_100))\n",
    "print(\"Std:\", np.std(accuracies_heatmaps_100))"
   ]
  },
  {
   "cell_type": "code",
   "execution_count": 83,
   "metadata": {},
   "outputs": [
    {
     "data": {
      "text/plain": [
       "[[0.3768891950066273, 0.8283253205128205],\n",
       " [0.377948512153733, 0.8275966183574879],\n",
       " [0.3780914789332668, 0.8276972624798712],\n",
       " [0.37738089318628665, 0.8278985507246377],\n",
       " [0.37768571652268057, 0.8275966183574879],\n",
       " [0.3777177362146393, 0.8275966183574879],\n",
       " [0.37847193192552636, 0.8272946859903382],\n",
       " [0.37840079287016065, 0.8273953301127214],\n",
       " [0.3772213773355008, 0.8282004830917874],\n",
       " [0.3756083122870004, 0.8290056360708534]]"
      ]
     },
     "execution_count": 83,
     "metadata": {},
     "output_type": "execute_result"
    }
   ],
   "source": [
    "l_evaluate_test_heatmaps_50"
   ]
  },
  {
   "cell_type": "code",
   "execution_count": 121,
   "metadata": {},
   "outputs": [
    {
     "name": "stdout",
     "output_type": "stream",
     "text": [
      "Loss\n",
      "Mean: 0.3775415946435422\n",
      "Std: 0.0008009413618530624\n",
      "\n",
      "Accuracy\n",
      "Mean: 0.8278607124055494\n",
      "Std: 0.0004915797197196818\n"
     ]
    }
   ],
   "source": [
    "losses_heatmaps_50 = [x[0] for x in l_evaluate_test_heatmaps_50]\n",
    "accuracies_heatmaps_50 = [x[1] for x in l_evaluate_test_heatmaps_50]\n",
    "\n",
    "print(\"Loss\")\n",
    "print(\"Mean:\", np.mean(losses_heatmaps_50))\n",
    "print(\"Std:\", np.std(losses_heatmaps_50))\n",
    "print(\"\\nAccuracy\")\n",
    "print(\"Mean:\", np.mean(accuracies_heatmaps_50))\n",
    "print(\"Std:\", np.std(accuracies_heatmaps_50))"
   ]
  },
  {
   "cell_type": "code",
   "execution_count": null,
   "metadata": {},
   "outputs": [],
   "source": []
  },
  {
   "cell_type": "code",
   "execution_count": null,
   "metadata": {},
   "outputs": [],
   "source": []
  },
  {
   "cell_type": "code",
   "execution_count": 96,
   "metadata": {},
   "outputs": [
    {
     "name": "stdout",
     "output_type": "stream",
     "text": [
      "Found 10000 images belonging to 2 classes.\n"
     ]
    }
   ],
   "source": [
    "test_datagen_frcnn = ImageDataGenerator(rescale=1./255)\n",
    "\n",
    "test_generator_frcnn = test_datagen_frcnn.flow_from_directory(\n",
    "    directory=\"/home/julien/crops_frcnn/\",\n",
    "    target_size=target_size,\n",
    "    color_mode=\"rgb\",\n",
    "    batch_size=batch_size,\n",
    "    class_mode=\"categorical\",\n",
    "    shuffle=False\n",
    ")\n",
    "\n",
    "test_crops_frcnn = crop_generator(test_generator_frcnn, 224)"
   ]
  },
  {
   "cell_type": "code",
   "execution_count": 97,
   "metadata": {},
   "outputs": [],
   "source": [
    "l_evaluate_test_frcnn = [model.evaluate_generator(\n",
    "        test_crops_frcnn,\n",
    "        steps=156\n",
    ") for _ in range(10)]"
   ]
  },
  {
   "cell_type": "code",
   "execution_count": 98,
   "metadata": {},
   "outputs": [
    {
     "data": {
      "text/plain": [
       "[[0.3811821637627406, 0.8226161858974359],\n",
       " [0.3818777411840196, 0.822463768115942],\n",
       " [0.38239519185298115, 0.822061191626409],\n",
       " [0.3814839212982743, 0.822463768115942],\n",
       " [0.38205529391861576, 0.822061191626409],\n",
       " [0.3825373086184503, 0.8218599033816425],\n",
       " [0.382419440097471, 0.8218599033816425],\n",
       " [0.3826513989152156, 0.8217592592592593],\n",
       " [0.3818686916440389, 0.8222624798711755],\n",
       " [0.3804056346896382, 0.8230676328502415]]"
      ]
     },
     "execution_count": 98,
     "metadata": {},
     "output_type": "execute_result"
    }
   ],
   "source": [
    "l_evaluate_test_frcnn"
   ]
  },
  {
   "cell_type": "code",
   "execution_count": 122,
   "metadata": {},
   "outputs": [
    {
     "name": "stdout",
     "output_type": "stream",
     "text": [
      "Loss\n",
      "Mean: 0.38188767859814454\n",
      "Std: 0.0006656881643222366\n",
      "\n",
      "Accuracy\n",
      "Mean: 0.82224752841261\n",
      "Std: 0.0003886615861660281\n"
     ]
    }
   ],
   "source": [
    "losses_frcnn = [x[0] for x in l_evaluate_test_frcnn]\n",
    "accuracies_frcnn = [x[1] for x in l_evaluate_test_frcnn]\n",
    "\n",
    "print(\"Loss\")\n",
    "print(\"Mean:\", np.mean(losses_frcnn))\n",
    "print(\"Std:\", np.std(losses_frcnn))\n",
    "print(\"\\nAccuracy\")\n",
    "print(\"Mean:\", np.mean(accuracies_frcnn))\n",
    "print(\"Std:\", np.std(accuracies_frcnn))"
   ]
  },
  {
   "cell_type": "code",
   "execution_count": null,
   "metadata": {},
   "outputs": [],
   "source": []
  },
  {
   "cell_type": "code",
   "execution_count": 99,
   "metadata": {},
   "outputs": [],
   "source": [
    "from scipy import stats"
   ]
  },
  {
   "cell_type": "code",
   "execution_count": 105,
   "metadata": {},
   "outputs": [
    {
     "data": {
      "text/plain": [
       "(6.161683397842524, 0.00011168836149976237)"
      ]
     },
     "execution_count": 105,
     "metadata": {},
     "output_type": "execute_result"
    }
   ],
   "source": [
    "# 0 for loss, 1 for accruracy\n",
    "t, p = stats.ttest_ind([x[1] for x in l_evaluate_test2], \n",
    "                       [x[1] for x in l_evaluate_test_frcnn],\n",
    "                       equal_var=False)\n",
    "t, p"
   ]
  },
  {
   "cell_type": "code",
   "execution_count": 106,
   "metadata": {},
   "outputs": [
    {
     "data": {
      "text/plain": [
       "(-27.592711609214625, 5.942114543770914e-11)"
      ]
     },
     "execution_count": 106,
     "metadata": {},
     "output_type": "execute_result"
    }
   ],
   "source": [
    "t, p = stats.ttest_ind([x[1] for x in l_evaluate_test2], \n",
    "                       [x[1] for x in l_evaluate_test_heatmaps_100],\n",
    "                       equal_var=False)\n",
    "t, p"
   ]
  },
  {
   "cell_type": "code",
   "execution_count": 107,
   "metadata": {},
   "outputs": [
    {
     "data": {
      "text/plain": [
       "(0.04832936181459299, 0.06215387746464242)"
      ]
     },
     "execution_count": 107,
     "metadata": {},
     "output_type": "execute_result"
    }
   ],
   "source": [
    "np.var(l_evaluate_test2), np.var(l_evaluate_test_heatmaps_100)"
   ]
  },
  {
   "cell_type": "code",
   "execution_count": 112,
   "metadata": {},
   "outputs": [
    {
     "data": {
      "text/plain": [
       "(-3.221335611280772, 0.00869536460618242)"
      ]
     },
     "execution_count": 112,
     "metadata": {},
     "output_type": "execute_result"
    }
   ],
   "source": [
    "t, p = stats.ttest_ind([x[1] for x in l_evaluate_test2], \n",
    "                       [x[1] for x in l_evaluate_test_heatmaps_50],\n",
    "                       equal_var=False)\n",
    "t, p"
   ]
  },
  {
   "cell_type": "code",
   "execution_count": 110,
   "metadata": {},
   "outputs": [
    {
     "data": {
      "text/plain": [
       "0.0506972685343311"
      ]
     },
     "execution_count": 110,
     "metadata": {},
     "output_type": "execute_result"
    }
   ],
   "source": [
    "np.var(l_evaluate_test_heatmaps_50)"
   ]
  },
  {
   "cell_type": "code",
   "execution_count": 115,
   "metadata": {},
   "outputs": [
    {
     "data": {
      "text/plain": [
       "-0.0019448508918618046"
      ]
     },
     "execution_count": 115,
     "metadata": {},
     "output_type": "execute_result"
    }
   ],
   "source": [
    "np.mean([x[1] for x in l_evaluate_test2]) - np.mean([x[1] for x in l_evaluate_test_heatmaps_50])"
   ]
  },
  {
   "cell_type": "code",
   "execution_count": 116,
   "metadata": {},
   "outputs": [
    {
     "data": {
      "text/plain": [
       "0.0012516566680035065"
      ]
     },
     "execution_count": 116,
     "metadata": {},
     "output_type": "execute_result"
    }
   ],
   "source": [
    "np.std([x[1] for x in l_evaluate_test2]) - np.std([x[1] for x in l_evaluate_test_heatmaps_50])"
   ]
  },
  {
   "cell_type": "code",
   "execution_count": null,
   "metadata": {},
   "outputs": [],
   "source": []
  },
  {
   "cell_type": "code",
   "execution_count": 117,
   "metadata": {},
   "outputs": [
    {
     "data": {
      "text/plain": [
       "0.0036683331010776143"
      ]
     },
     "execution_count": 117,
     "metadata": {},
     "output_type": "execute_result"
    }
   ],
   "source": [
    "np.mean([x[1] for x in l_evaluate_test2]) - np.mean([x[1] for x in l_evaluate_test_frcnn])"
   ]
  },
  {
   "cell_type": "code",
   "execution_count": 118,
   "metadata": {},
   "outputs": [
    {
     "data": {
      "text/plain": [
       "0.0013545748015571602"
      ]
     },
     "execution_count": 118,
     "metadata": {},
     "output_type": "execute_result"
    }
   ],
   "source": [
    "np.std([x[1] for x in l_evaluate_test2]) - np.std([x[1] for x in l_evaluate_test_frcnn])"
   ]
  },
  {
   "cell_type": "code",
   "execution_count": null,
   "metadata": {},
   "outputs": [],
   "source": [
    "np.sqrt(np.var())"
   ]
  }
 ],
 "metadata": {
  "kernelspec": {
   "display_name": "Python 3",
   "language": "python",
   "name": "python3"
  },
  "language_info": {
   "codemirror_mode": {
    "name": "ipython",
    "version": 3
   },
   "file_extension": ".py",
   "mimetype": "text/x-python",
   "name": "python",
   "nbconvert_exporter": "python",
   "pygments_lexer": "ipython3",
   "version": "3.6.5"
  }
 },
 "nbformat": 4,
 "nbformat_minor": 2
}
