{
 "cells": [
  {
   "cell_type": "code",
   "execution_count": 6,
   "metadata": {},
   "outputs": [],
   "source": [
    "import os\n",
    "os.environ[\"CUDA_DEVICE_ORDER\"] = \"PCI_BUS_ID\"  # so the IDs match nvidia-smi\n",
    "os.environ[\"CUDA_VISIBLE_DEVICES\"] = \"1\"  # \"0, 1\" for multiple\n",
    "# http://forums.fast.ai/t/tip-limiting-tensorflow-to-one-gpu/1995"
   ]
  },
  {
   "cell_type": "code",
   "execution_count": 7,
   "metadata": {},
   "outputs": [],
   "source": [
    "import numpy as np\n",
    "import tensorflow as tf\n",
    "import matplotlib.pyplot as plt\n",
    "%matplotlib inline\n",
    "import pandas as pd\n",
    "import scipy\n",
    "import skimage.transform\n",
    "\n",
    "import keras\n",
    "\n",
    "from keras import backend as K  # set the data format as 'channels_first'\n",
    "\n",
    "from keras.utils.data_utils import get_file\n",
    "from keras.utils import np_utils\n",
    "from keras.utils.np_utils import to_categorical\n",
    "\n",
    "from keras import applications  # VGG model\n",
    "\n",
    "from keras.models import Sequential, Model\n",
    "from keras.layers import Input, Embedding, Reshape, merge, LSTM, Bidirectional, concatenate\n",
    "from keras.layers import TimeDistributed, Activation, SimpleRNN, GRU, GlobalAveragePooling2D\n",
    "from keras.layers.core import Flatten, Dense, Dropout, Lambda\n",
    "#from keras.regularizers import l2, activity_l2, l1, activity_l1\n",
    "\n",
    "from keras.layers.normalization import BatchNormalization\n",
    "from keras.optimizers import SGD, RMSprop, Adam\n",
    "#from keras.utils.layer_utils import layer_from_config\n",
    "from keras.metrics import categorical_crossentropy, categorical_accuracy\n",
    "\n",
    "from keras.layers.convolutional import *\n",
    "from keras.preprocessing import image, sequence\n",
    "from keras.preprocessing.image import ImageDataGenerator\n",
    "from keras.preprocessing.text import Tokenizer\n",
    "\n",
    "from keras.callbacks import ModelCheckpoint, EarlyStopping, TensorBoard  # callbacks\n",
    "\n",
    "from glob import glob\n",
    "import os\n",
    "import bcolz\n",
    "import ujson as json\n",
    "import PIL\n",
    "\n",
    "from scipy import ndimage\n",
    "from collections import defaultdict\n",
    "\n",
    "# import h5py"
   ]
  },
  {
   "cell_type": "code",
   "execution_count": 15,
   "metadata": {},
   "outputs": [],
   "source": [
    "from PIL import ImageFile\n",
    "ImageFile.LOAD_TRUNCATED_IMAGES = True"
   ]
  },
  {
   "cell_type": "code",
   "execution_count": 8,
   "metadata": {},
   "outputs": [],
   "source": [
    "PATH_IMAGES = \"/home/julien/tractable_images/\""
   ]
  },
  {
   "cell_type": "markdown",
   "metadata": {
    "heading_collapsed": true
   },
   "source": [
    "## Create datasets (run only once)"
   ]
  },
  {
   "cell_type": "code",
   "execution_count": 179,
   "metadata": {
    "hidden": true
   },
   "outputs": [],
   "source": [
    "df = pd.read_csv('./flwing_part-big_split.csv')\n",
    "# There are a lot of duplicates (by image_id), we need to remove them.\n",
    "df = df.drop_duplicates(\"image_id\")"
   ]
  },
  {
   "cell_type": "code",
   "execution_count": 180,
   "metadata": {
    "hidden": true
   },
   "outputs": [],
   "source": [
    "# We also remove all of the images which are in the csv file,\n",
    "# but not in the directory.\n",
    "all_images = os.listdir(PATH_IMAGES)\n",
    "s = set(list(df[\"image_id\"])) - set([x[:-4] for x in all_images])\n",
    "df = df[~df[\"image_id\"].isin(s)]"
   ]
  },
  {
   "cell_type": "code",
   "execution_count": 181,
   "metadata": {
    "hidden": true
   },
   "outputs": [
    {
     "data": {
      "text/plain": [
       "(486713, 5)"
      ]
     },
     "execution_count": 181,
     "metadata": {},
     "output_type": "execute_result"
    }
   ],
   "source": [
    "# Check that the csv contains the same number of images\n",
    "# as the directory: 486713.\n",
    "df.shape"
   ]
  },
  {
   "cell_type": "code",
   "execution_count": 182,
   "metadata": {
    "hidden": true
   },
   "outputs": [],
   "source": [
    "df = df.drop([\"b'imbag_id'\", \"set:\"], axis=1)"
   ]
  },
  {
   "cell_type": "code",
   "execution_count": 183,
   "metadata": {
    "hidden": true
   },
   "outputs": [],
   "source": [
    "df_flwing = df[df['flwing']==1]\n",
    "df_not_flwing = df[df['flwing']==0]"
   ]
  },
  {
   "cell_type": "code",
   "execution_count": 184,
   "metadata": {
    "hidden": true
   },
   "outputs": [],
   "source": [
    "val1 = df_flwing.sample(5000)\n",
    "val2 = df_not_flwing.sample(5000)\n",
    "val = pd.concat([val1, val2])\n",
    "#del val1; del val2\n",
    "\n",
    "df_flwing = df_flwing.drop(val1.index)\n",
    "df_not_flwing = df_not_flwing.drop(val2.index)"
   ]
  },
  {
   "cell_type": "code",
   "execution_count": 185,
   "metadata": {
    "hidden": true
   },
   "outputs": [],
   "source": [
    "test1 = df_flwing.sample(5000)\n",
    "test2 = df_not_flwing.sample(5000)\n",
    "test = pd.concat([test1, test2])\n",
    "#del val1; del val2\n",
    "\n",
    "df_flwing = df_flwing.drop(test1.index)\n",
    "df_not_flwing = df_not_flwing.drop(test2.index)"
   ]
  },
  {
   "cell_type": "code",
   "execution_count": 213,
   "metadata": {
    "hidden": true,
    "scrolled": true
   },
   "outputs": [],
   "source": [
    "for image in list(val1[\"image_id\"]):\n",
    "    os.rename(PATH_IMAGES+\"{}.jpg\".format(image),\n",
    "             PATH_IMAGES+\"val/flwing/{}.jpg\".format(image))\n",
    "\n",
    "for image in list(val2[\"image_id\"]):\n",
    "    os.rename(PATH_IMAGES+\"{}.jpg\".format(image),\n",
    "             PATH_IMAGES+\"val/not_flwing/{}.jpg\".format(image))"
   ]
  },
  {
   "cell_type": "code",
   "execution_count": 212,
   "metadata": {
    "hidden": true,
    "scrolled": true
   },
   "outputs": [],
   "source": [
    "for image in list(test1[\"image_id\"]):\n",
    "    os.rename(PATH_IMAGES+\"{}.jpg\".format(image),\n",
    "             PATH_IMAGES+\"test/flwing/{}.jpg\".format(image))\n",
    "\n",
    "for image in list(test2[\"image_id\"]):\n",
    "    os.rename(PATH_IMAGES+\"{}.jpg\".format(image),\n",
    "             PATH_IMAGES+\"test/not_flwing/{}.jpg\".format(image))"
   ]
  },
  {
   "cell_type": "code",
   "execution_count": 206,
   "metadata": {
    "hidden": true
   },
   "outputs": [],
   "source": [
    "for image in list(df_flwing[\"image_id\"]):\n",
    "    os.rename(PATH_IMAGES+\"{}.jpg\".format(image),\n",
    "             PATH_IMAGES+\"train/flwing/{}.jpg\".format(image))\n",
    "\n",
    "for image in list(df_not_flwing[\"image_id\"]):\n",
    "    os.rename(PATH_IMAGES+\"{}.jpg\".format(image),\n",
    "             PATH_IMAGES+\"train/not_flwing/{}.jpg\".format(image))"
   ]
  },
  {
   "cell_type": "markdown",
   "metadata": {
    "heading_collapsed": true,
    "hidden": true
   },
   "source": [
    "### Visualization (useful cells, keep them for later)"
   ]
  },
  {
   "cell_type": "code",
   "execution_count": 7,
   "metadata": {
    "hidden": true
   },
   "outputs": [],
   "source": [
    "# dossier avec les images.\n",
    "# ./tractable_images"
   ]
  },
  {
   "cell_type": "code",
   "execution_count": 84,
   "metadata": {
    "hidden": true
   },
   "outputs": [],
   "source": [
    "import matplotlib.pyplot as plt"
   ]
  },
  {
   "cell_type": "code",
   "execution_count": 85,
   "metadata": {
    "hidden": true
   },
   "outputs": [
    {
     "data": {
      "text/plain": [
       "<matplotlib.image.AxesImage at 0x7fb2f854d518>"
      ]
     },
     "execution_count": 85,
     "metadata": {},
     "output_type": "execute_result"
    },
    {
     "data": {
      "image/png": "[encoded data removed]",
      "text/plain": [
       "<Figure size 432x288 with 1 Axes>"
      ]
     },
     "metadata": {},
     "output_type": "display_data"
    }
   ],
   "source": [
    "index = 25\n",
    "image = plt.imread('./tractable_images/{}.jpg'.format(df.iloc[index]['image_id']))\n",
    "plt.imshow(image)"
   ]
  },
  {
   "cell_type": "markdown",
   "metadata": {},
   "source": [
    "## Classifier (resize)"
   ]
  },
  {
   "cell_type": "code",
   "execution_count": 9,
   "metadata": {},
   "outputs": [],
   "source": [
    "batch_size = 64\n",
    "target_size = (224,224)"
   ]
  },
  {
   "cell_type": "code",
   "execution_count": 359,
   "metadata": {},
   "outputs": [
    {
     "name": "stdout",
     "output_type": "stream",
     "text": [
      "Found 466713 images belonging to 2 classes.\n"
     ]
    }
   ],
   "source": [
    "train_datagen = ImageDataGenerator(\n",
    "        rescale=1./255,\n",
    "        #featurewise_center=True,\n",
    "        #featurewise_std_normalization=True,\n",
    "        width_shift_range=0.125,\n",
    "        height_shift_range=0.125,\n",
    "        fill_mode='constant', cval=0.,\n",
    "        shear_range=0.2,\n",
    "        zoom_range=(0.7, 1.2),\n",
    "        rotation_range=25\n",
    ")\n",
    "\n",
    "train_generator = train_datagen.flow_from_directory(\n",
    "    directory=PATH_IMAGES+\"train/\",\n",
    "    target_size=target_size,\n",
    "    color_mode=\"rgb\",\n",
    "    batch_size=batch_size,\n",
    "    class_mode=\"categorical\",\n",
    "    shuffle=True\n",
    ")"
   ]
  },
  {
   "cell_type": "code",
   "execution_count": 360,
   "metadata": {},
   "outputs": [
    {
     "name": "stdout",
     "output_type": "stream",
     "text": [
      "Found 10000 images belonging to 2 classes.\n"
     ]
    }
   ],
   "source": [
    "valid_datagen = ImageDataGenerator(\n",
    "        rescale=1./255,\n",
    "        #featurewise_center=True,\n",
    "        #featurewise_std_normalization=True,\n",
    "        width_shift_range=0.125,\n",
    "        height_shift_range=0.125,\n",
    "        fill_mode='constant', cval=0.,\n",
    "        shear_range=0.2,\n",
    "        zoom_range=(0.7, 1.2),\n",
    "        rotation_range=25\n",
    ")\n",
    "\n",
    "valid_generator = valid_datagen.flow_from_directory(\n",
    "    directory=PATH_IMAGES+\"val/\",\n",
    "    target_size=target_size,\n",
    "    color_mode=\"rgb\",\n",
    "    batch_size=batch_size,\n",
    "    class_mode=\"categorical\",\n",
    "    shuffle=True\n",
    ")"
   ]
  },
  {
   "cell_type": "code",
   "execution_count": 372,
   "metadata": {},
   "outputs": [
    {
     "name": "stdout",
     "output_type": "stream",
     "text": [
      "Found 10000 images belonging to 2 classes.\n"
     ]
    }
   ],
   "source": [
    "test_datagen = ImageDataGenerator(rescale=1./255)\n",
    "\n",
    "test_generator = test_datagen.flow_from_directory(\n",
    "    directory=PATH_IMAGES+\"test/\",\n",
    "    target_size=target_size,\n",
    "    color_mode=\"rgb\",\n",
    "    batch_size=batch_size,\n",
    "    class_mode=\"categorical\",\n",
    "    shuffle=False\n",
    ")"
   ]
  },
  {
   "cell_type": "code",
   "execution_count": 219,
   "metadata": {},
   "outputs": [
    {
     "data": {
      "text/plain": [
       "466713"
      ]
     },
     "execution_count": 219,
     "metadata": {},
     "output_type": "execute_result"
    }
   ],
   "source": [
    "train_generator.n"
   ]
  },
  {
   "cell_type": "code",
   "execution_count": 259,
   "metadata": {},
   "outputs": [
    {
     "name": "stdout",
     "output_type": "stream",
     "text": [
      "1 input_3\n",
      "2 block1_conv1\n",
      "3 block1_conv2\n",
      "4 block1_pool\n",
      "5 block2_conv1\n",
      "6 block2_conv2\n",
      "7 block2_pool\n",
      "8 block3_conv1\n",
      "9 block3_conv2\n",
      "10 block3_conv3\n",
      "11 block3_pool\n",
      "12 block4_conv1\n",
      "13 block4_conv2\n",
      "14 block4_conv3\n",
      "15 block4_pool\n",
      "16 block5_conv1\n",
      "17 block5_conv2\n",
      "18 block5_conv3\n",
      "19 block5_pool\n"
     ]
    }
   ],
   "source": [
    "base_model = applications.VGG16(include_top=False, weights='imagenet')#, input_shape=(3,)+target_size)\n",
    "\n",
    "i=0\n",
    "for layer in base_model.layers:\n",
    "    layer.trainable = False\n",
    "    i = i+1\n",
    "    print(i,layer.name)"
   ]
  },
  {
   "cell_type": "code",
   "execution_count": 361,
   "metadata": {},
   "outputs": [],
   "source": [
    "x = base_model.output\n",
    "#x = Dense(128, activation='relu')(x)\n",
    "x = GlobalAveragePooling2D()(x)\n",
    "#x = Dropout(0.2)(x)\n",
    "x = Dense(128, activation='relu')(x)\n",
    "x = Dropout(0.2)(x)\n",
    "x = Dense(128, activation='relu')(x)\n",
    "x = Dropout(0.2)(x)\n",
    "predictions = Dense(2, activation='sigmoid')(x)"
   ]
  },
  {
   "cell_type": "code",
   "execution_count": 313,
   "metadata": {},
   "outputs": [],
   "source": [
    "# nf=128; p=0.5\n",
    "# x = base_model.output\n",
    "# #print(x.shape[1:])\n",
    "# #x = BatchNormalization(axis=1, input_shape=x.shape[1:])(x)\n",
    "# x = Convolution2D(nf,(3,3), activation='relu', padding='same')(x)\n",
    "# x = Dropout(p)(x)\n",
    "# #x = BatchNormalization(axis=1, input_shape=x.shape)(x)\n",
    "# x = Convolution2D(nf,(3,3), activation='relu', padding='same')(x)\n",
    "# x = Dropout(p)(x)\n",
    "# #x = BatchNormalization(axis=1)(x)\n",
    "# x = Convolution2D(nf,(3,3), activation='relu', padding='same')(x)\n",
    "# x = Dropout(p)(x)\n",
    "# #x = BatchNormalization(axis=1)(x)\n",
    "# x = Convolution2D(2,(3,3), padding='same')(x)\n",
    "# x = Dropout(p)(x)\n",
    "# predictions = GlobalAveragePooling2D()(x)\n",
    "# #x = GlobalAveragePooling2D()(x)\n",
    "# #predictions = Activation('sigmoid')(x)"
   ]
  },
  {
   "cell_type": "code",
   "execution_count": 362,
   "metadata": {},
   "outputs": [],
   "source": [
    "from PIL import ImageFile\n",
    "ImageFile.LOAD_TRUNCATED_IMAGES = True"
   ]
  },
  {
   "cell_type": "code",
   "execution_count": 363,
   "metadata": {},
   "outputs": [],
   "source": [
    "class_weight = {0: 5., 1: 1.}"
   ]
  },
  {
   "cell_type": "code",
   "execution_count": 364,
   "metadata": {},
   "outputs": [],
   "source": [
    "#checkpointer = ModelCheckpoint(filepath=path+'results/models/top_model_high_res_640.hdf5',\n",
    "#                               verbose=1, save_best_only=True)\n",
    "checkpointer = ModelCheckpoint(filepath=\"classifier_2.hdf5\",\n",
    "                               verbose=1, save_best_only=True)    \n",
    "earlystop = EarlyStopping(monitor=\"val_loss\", patience=20)\n",
    "tensorboard = TensorBoard(log_dir=\"c2_logs\")\n",
    "callbacks_list = [checkpointer, earlystop, tensorboard]"
   ]
  },
  {
   "cell_type": "code",
   "execution_count": 365,
   "metadata": {
    "scrolled": true
   },
   "outputs": [
    {
     "name": "stdout",
     "output_type": "stream",
     "text": [
      "Epoch 1/100\n",
      "  69/1823 [>.............................] - ETA: 31:46 - loss: 0.9202 - acc: 0.8308"
     ]
    },
    {
     "name": "stderr",
     "output_type": "stream",
     "text": [
      "/home/julien/miniconda3/envs/project/lib/python3.6/site-packages/PIL/JpegImagePlugin.py:790: UserWarning: Image appears to be a malformed MPO file, it will be interpreted as a base JPEG file\n",
      "  warnings.warn(\"Image appears to be a malformed MPO file, it will be \"\n"
     ]
    },
    {
     "name": "stdout",
     "output_type": "stream",
     "text": [
      " 189/1823 [==>...........................] - ETA: 29:02 - loss: 0.8430 - acc: 0.7878"
     ]
    },
    {
     "name": "stderr",
     "output_type": "stream",
     "text": [
      "/home/julien/miniconda3/envs/project/lib/python3.6/site-packages/PIL/TiffImagePlugin.py:739: UserWarning: Possibly corrupt EXIF data.  Expecting to read 16843011 bytes but only got 0. Skipping tag 64249\n",
      "  \" Skipping tag %s\" % (size, len(data), tag))\n",
      "/home/julien/miniconda3/envs/project/lib/python3.6/site-packages/PIL/TiffImagePlugin.py:756: UserWarning: Corrupt EXIF data.  Expecting to read 12 bytes but only got 10. \n",
      "  warnings.warn(str(msg))\n"
     ]
    },
    {
     "name": "stdout",
     "output_type": "stream",
     "text": [
      " 616/1823 [=========>....................] - ETA: 21:32 - loss: 0.7236 - acc: 0.8064"
     ]
    },
    {
     "name": "stderr",
     "output_type": "stream",
     "text": [
      "/home/julien/miniconda3/envs/project/lib/python3.6/site-packages/PIL/Image.py:2514: DecompressionBombWarning: Image size (139201551 pixels) exceeds limit of 89478485 pixels, could be decompression bomb DOS attack.\n",
      "  DecompressionBombWarning)\n"
     ]
    },
    {
     "name": "stdout",
     "output_type": "stream",
     "text": [
      "1823/1823 [==============================] - 2013s 1s/step - loss: 0.6402 - acc: 0.8322 - val_loss: 0.4167 - val_acc: 0.8083\n",
      "\n",
      "Epoch 00001: val_loss improved from inf to 0.41668, saving model to classifier_2.hdf5\n",
      "Epoch 2/100\n",
      " 138/1823 [=>............................] - ETA: 27:51 - loss: 0.5585 - acc: 0.8621"
     ]
    },
    {
     "name": "stderr",
     "output_type": "stream",
     "text": [
      "/home/julien/miniconda3/envs/project/lib/python3.6/site-packages/PIL/TiffImagePlugin.py:739: UserWarning: Possibly corrupt EXIF data.  Expecting to read 8589934590 bytes but only got 29023. Skipping tag 34855\n",
      "  \" Skipping tag %s\" % (size, len(data), tag))\n"
     ]
    },
    {
     "name": "stdout",
     "output_type": "stream",
     "text": [
      "1266/1823 [===================>..........] - ETA: 9:53 - loss: 0.5507 - acc: 0.8639"
     ]
    },
    {
     "name": "stderr",
     "output_type": "stream",
     "text": [
      "/home/julien/miniconda3/envs/project/lib/python3.6/site-packages/PIL/TiffImagePlugin.py:756: UserWarning: Corrupt EXIF data.  Expecting to read 12 bytes but only got 1. \n",
      "  warnings.warn(str(msg))\n"
     ]
    },
    {
     "name": "stdout",
     "output_type": "stream",
     "text": [
      "1823/1823 [==============================] - 1999s 1s/step - loss: 0.5474 - acc: 0.8649 - val_loss: 0.4192 - val_acc: 0.8011\n",
      "\n",
      "Epoch 00002: val_loss did not improve from 0.41668\n",
      "Epoch 3/100\n",
      " 112/1823 [>.............................] - ETA: 27:41 - loss: 0.5406 - acc: 0.8729"
     ]
    },
    {
     "name": "stderr",
     "output_type": "stream",
     "text": [
      "/home/julien/miniconda3/envs/project/lib/python3.6/site-packages/PIL/TiffImagePlugin.py:739: UserWarning: Possibly corrupt EXIF data.  Expecting to read 1769472 bytes but only got 0. Skipping tag 0\n",
      "  \" Skipping tag %s\" % (size, len(data), tag))\n"
     ]
    },
    {
     "name": "stdout",
     "output_type": "stream",
     "text": [
      "1623/1823 [=========================>....] - ETA: 3:33 - loss: 0.5272 - acc: 0.8725"
     ]
    },
    {
     "name": "stderr",
     "output_type": "stream",
     "text": [
      "/home/julien/miniconda3/envs/project/lib/python3.6/site-packages/PIL/TiffImagePlugin.py:756: UserWarning: Corrupt EXIF data.  Expecting to read 12 bytes but only got 9. \n",
      "  warnings.warn(str(msg))\n"
     ]
    },
    {
     "name": "stdout",
     "output_type": "stream",
     "text": [
      "1823/1823 [==============================] - 2000s 1s/step - loss: 0.5252 - acc: 0.8728 - val_loss: 0.3350 - val_acc: 0.8483\n",
      "\n",
      "Epoch 00003: val_loss improved from 0.41668 to 0.33495, saving model to classifier_2.hdf5\n",
      "Epoch 4/100\n",
      "1823/1823 [==============================] - 1990s 1s/step - loss: 0.5084 - acc: 0.8793 - val_loss: 0.3264 - val_acc: 0.8558\n",
      "\n",
      "Epoch 00004: val_loss improved from 0.33495 to 0.32643, saving model to classifier_2.hdf5\n",
      "Epoch 5/100\n",
      "1823/1823 [==============================] - 2008s 1s/step - loss: 0.4895 - acc: 0.8807 - val_loss: 0.3142 - val_acc: 0.8591\n",
      "\n",
      "Epoch 00005: val_loss improved from 0.32643 to 0.31422, saving model to classifier_2.hdf5\n",
      "Epoch 6/100\n",
      "1823/1823 [==============================] - 1996s 1s/step - loss: 0.4864 - acc: 0.8843 - val_loss: 0.3102 - val_acc: 0.8603\n",
      "\n",
      "Epoch 00006: val_loss improved from 0.31422 to 0.31025, saving model to classifier_2.hdf5\n",
      "Epoch 7/100\n",
      "1823/1823 [==============================] - 1995s 1s/step - loss: 0.4777 - acc: 0.8873 - val_loss: 0.3140 - val_acc: 0.8624\n",
      "\n",
      "Epoch 00007: val_loss did not improve from 0.31025\n",
      "Epoch 8/100\n",
      " 374/1823 [=====>........................] - ETA: 25:13 - loss: 0.4742 - acc: 0.8848"
     ]
    },
    {
     "name": "stderr",
     "output_type": "stream",
     "text": [
      "IOPub message rate exceeded.\n",
      "The notebook server will temporarily stop sending output\n",
      "to the client in order to avoid crashing it.\n",
      "To change this limit, set the config variable\n",
      "`--NotebookApp.iopub_msg_rate_limit`.\n",
      "\n",
      "Current values:\n",
      "NotebookApp.iopub_msg_rate_limit=1000.0 (msgs/sec)\n",
      "NotebookApp.rate_limit_window=3.0 (secs)\n",
      "\n"
     ]
    },
    {
     "name": "stdout",
     "output_type": "stream",
     "text": [
      "1823/1823 [==============================] - 1993s 1s/step - loss: 0.4556 - acc: 0.8942 - val_loss: 0.2960 - val_acc: 0.8684\n",
      "\n",
      "Epoch 00010: val_loss improved from 0.31025 to 0.29600, saving model to classifier_2.hdf5\n",
      "Epoch 11/100\n",
      "1823/1823 [==============================] - 1999s 1s/step - loss: 0.4558 - acc: 0.8916 - val_loss: 0.2899 - val_acc: 0.8750\n",
      "\n",
      "Epoch 00011: val_loss improved from 0.29600 to 0.28994, saving model to classifier_2.hdf5\n",
      "Epoch 12/100\n",
      "1823/1823 [==============================] - 1998s 1s/step - loss: 0.4423 - acc: 0.8961 - val_loss: 0.3003 - val_acc: 0.8651\n",
      "\n",
      "Epoch 00012: val_loss did not improve from 0.28994\n",
      "Epoch 13/100\n",
      "1823/1823 [==============================] - 2006s 1s/step - loss: 0.4430 - acc: 0.8964 - val_loss: 0.2770 - val_acc: 0.8792\n",
      "\n",
      "Epoch 00013: val_loss improved from 0.28994 to 0.27700, saving model to classifier_2.hdf5\n",
      "Epoch 14/100\n",
      "1721/1823 [===========================>..] - ETA: 1:48 - loss: 0.4428 - acc: 0.8971"
     ]
    },
    {
     "name": "stderr",
     "output_type": "stream",
     "text": [
      "IOPub message rate exceeded.\n",
      "The notebook server will temporarily stop sending output\n",
      "to the client in order to avoid crashing it.\n",
      "To change this limit, set the config variable\n",
      "`--NotebookApp.iopub_msg_rate_limit`.\n",
      "\n",
      "Current values:\n",
      "NotebookApp.iopub_msg_rate_limit=1000.0 (msgs/sec)\n",
      "NotebookApp.rate_limit_window=3.0 (secs)\n",
      "\n"
     ]
    },
    {
     "name": "stdout",
     "output_type": "stream",
     "text": [
      "1823/1823 [==============================] - 2010s 1s/step - loss: 0.4234 - acc: 0.8997 - val_loss: 0.2817 - val_acc: 0.8723\n",
      "\n",
      "Epoch 00017: val_loss did not improve from 0.27171\n",
      "Epoch 18/100\n",
      "1823/1823 [==============================] - 1999s 1s/step - loss: 0.4341 - acc: 0.8990 - val_loss: 0.2888 - val_acc: 0.8744\n",
      "\n",
      "Epoch 00018: val_loss did not improve from 0.27171\n",
      "Epoch 19/100\n",
      " 426/1823 [======>.......................] - ETA: 24:23 - loss: 0.4247 - acc: 0.9015"
     ]
    },
    {
     "name": "stderr",
     "output_type": "stream",
     "text": [
      "IOPub message rate exceeded.\n",
      "The notebook server will temporarily stop sending output\n",
      "to the client in order to avoid crashing it.\n",
      "To change this limit, set the config variable\n",
      "`--NotebookApp.iopub_msg_rate_limit`.\n",
      "\n",
      "Current values:\n",
      "NotebookApp.iopub_msg_rate_limit=1000.0 (msgs/sec)\n",
      "NotebookApp.rate_limit_window=3.0 (secs)\n",
      "\n"
     ]
    },
    {
     "name": "stdout",
     "output_type": "stream",
     "text": [
      "1823/1823 [==============================] - 2009s 1s/step - loss: 0.4264 - acc: 0.9011 - val_loss: 0.2624 - val_acc: 0.8903\n",
      "\n",
      "Epoch 00021: val_loss improved from 0.26975 to 0.26235, saving model to classifier_2.hdf5\n",
      "Epoch 22/100\n",
      "1823/1823 [==============================] - 1997s 1s/step - loss: 0.4122 - acc: 0.9026 - val_loss: 0.2944 - val_acc: 0.8681\n",
      "\n",
      "Epoch 00022: val_loss did not improve from 0.26235\n",
      "Epoch 23/100\n",
      "1025/1823 [===============>..............] - ETA: 14:08 - loss: 0.4111 - acc: 0.9044"
     ]
    },
    {
     "name": "stderr",
     "output_type": "stream",
     "text": [
      "IOPub message rate exceeded.\n",
      "The notebook server will temporarily stop sending output\n",
      "to the client in order to avoid crashing it.\n",
      "To change this limit, set the config variable\n",
      "`--NotebookApp.iopub_msg_rate_limit`.\n",
      "\n",
      "Current values:\n",
      "NotebookApp.iopub_msg_rate_limit=1000.0 (msgs/sec)\n",
      "NotebookApp.rate_limit_window=3.0 (secs)\n",
      "\n"
     ]
    },
    {
     "name": "stdout",
     "output_type": "stream",
     "text": [
      "1823/1823 [==============================] - 1997s 1s/step - loss: 0.4225 - acc: 0.9025 - val_loss: 0.2933 - val_acc: 0.8642\n",
      "\n",
      "Epoch 00024: val_loss did not improve from 0.26235\n",
      "Epoch 25/100\n",
      "1586/1823 [=========================>....] - ETA: 4:13 - loss: 0.4128 - acc: 0.9023"
     ]
    },
    {
     "name": "stderr",
     "output_type": "stream",
     "text": [
      "IOPub message rate exceeded.\n",
      "The notebook server will temporarily stop sending output\n",
      "to the client in order to avoid crashing it.\n",
      "To change this limit, set the config variable\n",
      "`--NotebookApp.iopub_msg_rate_limit`.\n",
      "\n",
      "Current values:\n",
      "NotebookApp.iopub_msg_rate_limit=1000.0 (msgs/sec)\n",
      "NotebookApp.rate_limit_window=3.0 (secs)\n",
      "\n"
     ]
    },
    {
     "name": "stdout",
     "output_type": "stream",
     "text": [
      "1823/1823 [==============================] - 2001s 1s/step - loss: 0.4097 - acc: 0.9045 - val_loss: 0.2635 - val_acc: 0.8930\n",
      "\n",
      "Epoch 00028: val_loss did not improve from 0.26028\n",
      "Epoch 29/100\n",
      "1823/1823 [==============================] - 2012s 1s/step - loss: 0.4101 - acc: 0.9052 - val_loss: 0.2524 - val_acc: 0.8969\n",
      "\n",
      "Epoch 00029: val_loss improved from 0.26028 to 0.25240, saving model to classifier_2.hdf5\n",
      "Epoch 30/100\n",
      " 160/1823 [=>............................] - ETA: 27:55 - loss: 0.4043 - acc: 0.9047"
     ]
    },
    {
     "name": "stderr",
     "output_type": "stream",
     "text": [
      "IOPub message rate exceeded.\n",
      "The notebook server will temporarily stop sending output\n",
      "to the client in order to avoid crashing it.\n",
      "To change this limit, set the config variable\n",
      "`--NotebookApp.iopub_msg_rate_limit`.\n",
      "\n",
      "Current values:\n",
      "NotebookApp.iopub_msg_rate_limit=1000.0 (msgs/sec)\n",
      "NotebookApp.rate_limit_window=3.0 (secs)\n",
      "\n"
     ]
    },
    {
     "name": "stdout",
     "output_type": "stream",
     "text": [
      "1823/1823 [==============================] - 2003s 1s/step - loss: 0.3996 - acc: 0.9083 - val_loss: 0.2650 - val_acc: 0.8885\n",
      "\n",
      "Epoch 00032: val_loss did not improve from 0.25240\n",
      "Epoch 33/100\n",
      "1823/1823 [==============================] - 2009s 1s/step - loss: 0.4067 - acc: 0.9061 - val_loss: 0.2645 - val_acc: 0.8888\n",
      "\n",
      "Epoch 00033: val_loss did not improve from 0.25240\n",
      "Epoch 34/100\n",
      " 327/1823 [====>.........................] - ETA: 25:49 - loss: 0.3931 - acc: 0.9083"
     ]
    },
    {
     "name": "stderr",
     "output_type": "stream",
     "text": [
      "IOPub message rate exceeded.\n",
      "The notebook server will temporarily stop sending output\n",
      "to the client in order to avoid crashing it.\n",
      "To change this limit, set the config variable\n",
      "`--NotebookApp.iopub_msg_rate_limit`.\n",
      "\n",
      "Current values:\n",
      "NotebookApp.iopub_msg_rate_limit=1000.0 (msgs/sec)\n",
      "NotebookApp.rate_limit_window=3.0 (secs)\n",
      "\n"
     ]
    },
    {
     "name": "stdout",
     "output_type": "stream",
     "text": [
      "1823/1823 [==============================] - 2001s 1s/step - loss: 0.4061 - acc: 0.9084 - val_loss: 0.2710 - val_acc: 0.8834\n",
      "\n",
      "Epoch 00036: val_loss did not improve from 0.25240\n",
      "Epoch 37/100\n",
      "1823/1823 [==============================] - 2005s 1s/step - loss: 0.4002 - acc: 0.9088 - val_loss: 0.2700 - val_acc: 0.8912\n",
      "\n",
      "Epoch 00037: val_loss did not improve from 0.25240\n",
      "Epoch 38/100\n",
      " 733/1823 [===========>..................] - ETA: 19:11 - loss: 0.3900 - acc: 0.9087"
     ]
    },
    {
     "name": "stderr",
     "output_type": "stream",
     "text": [
      "IOPub message rate exceeded.\n",
      "The notebook server will temporarily stop sending output\n",
      "to the client in order to avoid crashing it.\n",
      "To change this limit, set the config variable\n",
      "`--NotebookApp.iopub_msg_rate_limit`.\n",
      "\n",
      "Current values:\n",
      "NotebookApp.iopub_msg_rate_limit=1000.0 (msgs/sec)\n",
      "NotebookApp.rate_limit_window=3.0 (secs)\n",
      "\n"
     ]
    },
    {
     "name": "stdout",
     "output_type": "stream",
     "text": [
      "1823/1823 [==============================] - 2005s 1s/step - loss: 0.3975 - acc: 0.9094 - val_loss: 0.2636 - val_acc: 0.8903\n",
      "\n",
      "Epoch 00041: val_loss did not improve from 0.25240\n",
      "Epoch 42/100\n",
      "1386/1823 [=====================>........] - ETA: 7:44 - loss: 0.3947 - acc: 0.9106"
     ]
    },
    {
     "name": "stderr",
     "output_type": "stream",
     "text": [
      "IOPub message rate exceeded.\n",
      "The notebook server will temporarily stop sending output\n",
      "to the client in order to avoid crashing it.\n",
      "To change this limit, set the config variable\n",
      "`--NotebookApp.iopub_msg_rate_limit`.\n",
      "\n",
      "Current values:\n",
      "NotebookApp.iopub_msg_rate_limit=1000.0 (msgs/sec)\n",
      "NotebookApp.rate_limit_window=3.0 (secs)\n",
      "\n"
     ]
    },
    {
     "name": "stdout",
     "output_type": "stream",
     "text": [
      "1823/1823 [==============================] - 1994s 1s/step - loss: 0.3938 - acc: 0.9103 - val_loss: 0.2706 - val_acc: 0.8816\n",
      "\n",
      "Epoch 00044: val_loss did not improve from 0.25240\n",
      "Epoch 45/100\n",
      "1823/1823 [==============================] - 2003s 1s/step - loss: 0.3908 - acc: 0.9095 - val_loss: 0.2604 - val_acc: 0.8906\n",
      "\n",
      "Epoch 00045: val_loss did not improve from 0.25240\n",
      "Epoch 46/100\n",
      "1823/1823 [==============================] - 1995s 1s/step - loss: 0.3882 - acc: 0.9125 - val_loss: 0.2565 - val_acc: 0.8894\n",
      "\n",
      "Epoch 00046: val_loss did not improve from 0.25240\n",
      "Epoch 47/100\n",
      "1823/1823 [==============================] - 1996s 1s/step - loss: 0.3914 - acc: 0.9100 - val_loss: 0.2729 - val_acc: 0.8861\n",
      "\n",
      "Epoch 00047: val_loss did not improve from 0.25240\n",
      "Epoch 48/100\n",
      "1823/1823 [==============================] - 2000s 1s/step - loss: 0.3926 - acc: 0.9088 - val_loss: 0.2439 - val_acc: 0.8966\n",
      "\n",
      "Epoch 00048: val_loss improved from 0.25240 to 0.24389, saving model to classifier_2.hdf5\n",
      "Epoch 49/100\n",
      "1823/1823 [==============================] - 2001s 1s/step - loss: 0.3903 - acc: 0.9105 - val_loss: 0.2564 - val_acc: 0.8930\n",
      "\n",
      "Epoch 00049: val_loss did not improve from 0.24389\n",
      "Epoch 50/100\n",
      "1823/1823 [==============================] - 1996s 1s/step - loss: 0.3854 - acc: 0.9133 - val_loss: 0.2490 - val_acc: 0.8930\n",
      "\n",
      "Epoch 00050: val_loss did not improve from 0.24389\n",
      "Epoch 51/100\n",
      "1823/1823 [==============================] - 2009s 1s/step - loss: 0.3876 - acc: 0.9127 - val_loss: 0.2537 - val_acc: 0.8909\n",
      "\n",
      "Epoch 00051: val_loss did not improve from 0.24389\n",
      "Epoch 52/100\n",
      "1823/1823 [==============================] - 1999s 1s/step - loss: 0.3925 - acc: 0.9118 - val_loss: 0.2473 - val_acc: 0.8912\n",
      "\n",
      "Epoch 00052: val_loss did not improve from 0.24389\n",
      "Epoch 53/100\n",
      "1823/1823 [==============================] - 2005s 1s/step - loss: 0.3922 - acc: 0.9147 - val_loss: 0.2581 - val_acc: 0.8936\n",
      "\n",
      "Epoch 00053: val_loss did not improve from 0.24389\n",
      "Epoch 54/100\n",
      "1823/1823 [==============================] - 1999s 1s/step - loss: 0.3797 - acc: 0.9149 - val_loss: 0.2717 - val_acc: 0.8891\n",
      "\n",
      "Epoch 00054: val_loss did not improve from 0.24389\n",
      "Epoch 55/100\n",
      "1823/1823 [==============================] - 2003s 1s/step - loss: 0.3870 - acc: 0.9126 - val_loss: 0.2688 - val_acc: 0.8873\n",
      "\n",
      "Epoch 00055: val_loss did not improve from 0.24389\n",
      "Epoch 56/100\n",
      "1823/1823 [==============================] - 1983s 1s/step - loss: 0.3862 - acc: 0.9134 - val_loss: 0.2456 - val_acc: 0.8912\n",
      "\n",
      "Epoch 00056: val_loss did not improve from 0.24389\n",
      "Epoch 57/100\n",
      "1823/1823 [==============================] - 1998s 1s/step - loss: 0.3827 - acc: 0.9124 - val_loss: 0.2653 - val_acc: 0.8882\n",
      "\n",
      "Epoch 00057: val_loss did not improve from 0.24389\n",
      "Epoch 58/100\n",
      "1823/1823 [==============================] - 1993s 1s/step - loss: 0.3816 - acc: 0.9135 - val_loss: 0.2514 - val_acc: 0.8942\n",
      "\n",
      "Epoch 00058: val_loss did not improve from 0.24389\n",
      "Epoch 59/100\n",
      "1823/1823 [==============================] - 1992s 1s/step - loss: 0.3856 - acc: 0.9131 - val_loss: 0.2694 - val_acc: 0.8879\n",
      "\n",
      "Epoch 00059: val_loss did not improve from 0.24389\n",
      "Epoch 60/100\n",
      "1823/1823 [==============================] - 1991s 1s/step - loss: 0.3855 - acc: 0.9131 - val_loss: 0.2472 - val_acc: 0.8960\n",
      "\n",
      "Epoch 00060: val_loss did not improve from 0.24389\n",
      "Epoch 61/100\n",
      "1823/1823 [==============================] - 1987s 1s/step - loss: 0.3800 - acc: 0.9161 - val_loss: 0.3100 - val_acc: 0.8618\n",
      "\n",
      "Epoch 00061: val_loss did not improve from 0.24389\n",
      "Epoch 62/100\n",
      "1823/1823 [==============================] - 2001s 1s/step - loss: 0.3794 - acc: 0.9161 - val_loss: 0.2727 - val_acc: 0.8843\n",
      "\n",
      "Epoch 00062: val_loss did not improve from 0.24389\n",
      "Epoch 63/100\n",
      "1727/1823 [===========================>..] - ETA: 1:42 - loss: 0.3863 - acc: 0.9132"
     ]
    },
    {
     "name": "stderr",
     "output_type": "stream",
     "text": [
      "IOPub message rate exceeded.\n",
      "The notebook server will temporarily stop sending output\n",
      "to the client in order to avoid crashing it.\n",
      "To change this limit, set the config variable\n",
      "`--NotebookApp.iopub_msg_rate_limit`.\n",
      "\n",
      "Current values:\n",
      "NotebookApp.iopub_msg_rate_limit=1000.0 (msgs/sec)\n",
      "NotebookApp.rate_limit_window=3.0 (secs)\n",
      "\n"
     ]
    },
    {
     "name": "stdout",
     "output_type": "stream",
     "text": [
      "1823/1823 [==============================] - 2000s 1s/step - loss: 0.3821 - acc: 0.9135 - val_loss: 0.2534 - val_acc: 0.8942\n",
      "\n",
      "Epoch 00066: val_loss did not improve from 0.24389\n",
      "Epoch 67/100\n",
      "1823/1823 [==============================] - 1991s 1s/step - loss: 0.3753 - acc: 0.9135 - val_loss: 0.2512 - val_acc: 0.8915\n",
      "\n",
      "Epoch 00067: val_loss did not improve from 0.24389\n",
      "Epoch 68/100\n",
      " 254/1823 [===>..........................] - ETA: 26:47 - loss: 0.3793 - acc: 0.9150"
     ]
    },
    {
     "name": "stderr",
     "output_type": "stream",
     "text": [
      "IOPub message rate exceeded.\n",
      "The notebook server will temporarily stop sending output\n",
      "to the client in order to avoid crashing it.\n",
      "To change this limit, set the config variable\n",
      "`--NotebookApp.iopub_msg_rate_limit`.\n",
      "\n",
      "Current values:\n",
      "NotebookApp.iopub_msg_rate_limit=1000.0 (msgs/sec)\n",
      "NotebookApp.rate_limit_window=3.0 (secs)\n",
      "\n"
     ]
    },
    {
     "name": "stdout",
     "output_type": "stream",
     "text": [
      "1823/1823 [==============================] - 1996s 1s/step - loss: 0.3854 - acc: 0.9145 - val_loss: 0.2408 - val_acc: 0.8969\n",
      "\n",
      "Epoch 00070: val_loss improved from 0.24389 to 0.24084, saving model to classifier_2.hdf5\n",
      "Epoch 71/100\n",
      "1823/1823 [==============================] - 2002s 1s/step - loss: 0.3806 - acc: 0.9145 - val_loss: 0.2551 - val_acc: 0.8906\n",
      "\n",
      "Epoch 00071: val_loss did not improve from 0.24084\n",
      "Epoch 72/100\n",
      " 904/1823 [=============>................] - ETA: 16:13 - loss: 0.3840 - acc: 0.9105"
     ]
    },
    {
     "name": "stderr",
     "output_type": "stream",
     "text": [
      "IOPub message rate exceeded.\n",
      "The notebook server will temporarily stop sending output\n",
      "to the client in order to avoid crashing it.\n",
      "To change this limit, set the config variable\n",
      "`--NotebookApp.iopub_msg_rate_limit`.\n",
      "\n",
      "Current values:\n",
      "NotebookApp.iopub_msg_rate_limit=1000.0 (msgs/sec)\n",
      "NotebookApp.rate_limit_window=3.0 (secs)\n",
      "\n"
     ]
    },
    {
     "name": "stdout",
     "output_type": "stream",
     "text": [
      "1823/1823 [==============================] - 1999s 1s/step - loss: 0.3791 - acc: 0.9148 - val_loss: 0.2443 - val_acc: 0.8975\n",
      "\n",
      "Epoch 00075: val_loss did not improve from 0.24084\n",
      "Epoch 76/100\n",
      "1321/1823 [====================>.........] - ETA: 8:53 - loss: 0.3737 - acc: 0.9181"
     ]
    },
    {
     "name": "stderr",
     "output_type": "stream",
     "text": [
      "IOPub message rate exceeded.\n",
      "The notebook server will temporarily stop sending output\n",
      "to the client in order to avoid crashing it.\n",
      "To change this limit, set the config variable\n",
      "`--NotebookApp.iopub_msg_rate_limit`.\n",
      "\n",
      "Current values:\n",
      "NotebookApp.iopub_msg_rate_limit=1000.0 (msgs/sec)\n",
      "NotebookApp.rate_limit_window=3.0 (secs)\n",
      "\n"
     ]
    },
    {
     "name": "stdout",
     "output_type": "stream",
     "text": [
      "1823/1823 [==============================] - 1987s 1s/step - loss: 0.3742 - acc: 0.9169 - val_loss: 0.2704 - val_acc: 0.8828\n",
      "\n",
      "Epoch 00079: val_loss did not improve from 0.24084\n",
      "Epoch 80/100\n",
      "1823/1823 [==============================] - 1994s 1s/step - loss: 0.3788 - acc: 0.9167 - val_loss: 0.2417 - val_acc: 0.9029\n",
      "\n",
      "Epoch 00080: val_loss did not improve from 0.24084\n",
      "Epoch 81/100\n",
      " 222/1823 [==>...........................] - ETA: 27:17 - loss: 0.3691 - acc: 0.9163"
     ]
    },
    {
     "name": "stderr",
     "output_type": "stream",
     "text": [
      "IOPub message rate exceeded.\n",
      "The notebook server will temporarily stop sending output\n",
      "to the client in order to avoid crashing it.\n",
      "To change this limit, set the config variable\n",
      "`--NotebookApp.iopub_msg_rate_limit`.\n",
      "\n",
      "Current values:\n",
      "NotebookApp.iopub_msg_rate_limit=1000.0 (msgs/sec)\n",
      "NotebookApp.rate_limit_window=3.0 (secs)\n",
      "\n"
     ]
    },
    {
     "name": "stdout",
     "output_type": "stream",
     "text": [
      "1823/1823 [==============================] - 1985s 1s/step - loss: 0.3814 - acc: 0.9158 - val_loss: 0.2464 - val_acc: 0.8987\n",
      "\n",
      "Epoch 00083: val_loss did not improve from 0.24084\n",
      "Epoch 84/100\n",
      "1823/1823 [==============================] - 1986s 1s/step - loss: 0.3679 - acc: 0.9172 - val_loss: 0.2610 - val_acc: 0.8924\n",
      "\n",
      "Epoch 00084: val_loss did not improve from 0.24084\n",
      "Epoch 85/100\n",
      " 588/1823 [========>.....................] - ETA: 21:36 - loss: 0.3676 - acc: 0.9184"
     ]
    },
    {
     "name": "stderr",
     "output_type": "stream",
     "text": [
      "IOPub message rate exceeded.\n",
      "The notebook server will temporarily stop sending output\n",
      "to the client in order to avoid crashing it.\n",
      "To change this limit, set the config variable\n",
      "`--NotebookApp.iopub_msg_rate_limit`.\n",
      "\n",
      "Current values:\n",
      "NotebookApp.iopub_msg_rate_limit=1000.0 (msgs/sec)\n",
      "NotebookApp.rate_limit_window=3.0 (secs)\n",
      "\n"
     ]
    },
    {
     "name": "stdout",
     "output_type": "stream",
     "text": [
      "1823/1823 [==============================] - 1996s 1s/step - loss: 0.3746 - acc: 0.9168 - val_loss: 0.2614 - val_acc: 0.8885\n",
      "\n",
      "Epoch 00088: val_loss did not improve from 0.24084\n",
      "Epoch 89/100\n",
      "1270/1823 [===================>..........] - ETA: 9:47 - loss: 0.3709 - acc: 0.9165"
     ]
    },
    {
     "name": "stderr",
     "output_type": "stream",
     "text": [
      "IOPub message rate exceeded.\n",
      "The notebook server will temporarily stop sending output\n",
      "to the client in order to avoid crashing it.\n",
      "To change this limit, set the config variable\n",
      "`--NotebookApp.iopub_msg_rate_limit`.\n",
      "\n",
      "Current values:\n",
      "NotebookApp.iopub_msg_rate_limit=1000.0 (msgs/sec)\n",
      "NotebookApp.rate_limit_window=3.0 (secs)\n",
      "\n"
     ]
    }
   ],
   "source": [
    "model = Model(inputs=base_model.input, outputs=predictions)\n",
    "\n",
    "model.compile(loss=\"categorical_crossentropy\", optimizer=Adam(lr=0.001), metrics=[\"accuracy\"])\n",
    "\n",
    "\n",
    "STEP_SIZE_TRAIN=train_generator.n//train_generator.batch_size  # 7292\n",
    "STEP_SIZE_VALID=valid_generator.n//valid_generator.batch_size  # 156\n",
    "model.fit_generator(\n",
    "        train_generator,\n",
    "        steps_per_epoch=1823,\n",
    "        epochs=100,\n",
    "        #callbacks = callbacks_list,\n",
    "        validation_data = valid_generator,\n",
    "        validation_steps=52,\n",
    "        class_weight=class_weight,\n",
    "        callbacks=callbacks_list\n",
    "        )"
   ]
  },
  {
   "cell_type": "code",
   "execution_count": 382,
   "metadata": {},
   "outputs": [
    {
     "data": {
      "text/plain": [
       "(7292, 156)"
      ]
     },
     "execution_count": 382,
     "metadata": {},
     "output_type": "execute_result"
    }
   ],
   "source": [
    "STEP_SIZE_TRAIN, STEP_SIZE_VALID"
   ]
  },
  {
   "cell_type": "code",
   "execution_count": 367,
   "metadata": {},
   "outputs": [],
   "source": [
    "import pickle\n",
    "with open('./trainHistoryDict_2.p', 'wb') as file_pi:\n",
    "    pickle.dump(model.history.history, file_pi)\n",
    "\n",
    "# model.save(\"./classifier_1.h5\")"
   ]
  },
  {
   "cell_type": "code",
   "execution_count": null,
   "metadata": {},
   "outputs": [],
   "source": [
    "# from keras.models import load_model"
   ]
  },
  {
   "cell_type": "code",
   "execution_count": null,
   "metadata": {},
   "outputs": [],
   "source": []
  },
  {
   "cell_type": "code",
   "execution_count": 2,
   "metadata": {},
   "outputs": [],
   "source": [
    "import pickle\n",
    "with open('./trainHistoryDict_2.p', 'rb') as file_pi:\n",
    "    history = pickle.load(file_pi)"
   ]
  },
  {
   "cell_type": "code",
   "execution_count": 6,
   "metadata": {},
   "outputs": [
    {
     "data": {
      "image/png": "[encoded data removed]",
      "text/plain": [
       "<Figure size 576x396 with 2 Axes>"
      ]
     },
     "metadata": {},
     "output_type": "display_data"
    }
   ],
   "source": [
    "plt.style.use('seaborn')\n",
    "# summarize history for accuracy\n",
    "plt.subplot(1, 2, 1)\n",
    "plt.plot(history['acc'])\n",
    "plt.plot(history['val_acc'])\n",
    "plt.title('Model accuracy', fontsize=16)\n",
    "plt.ylabel('Accuracy', fontsize=14)\n",
    "plt.xlabel('Epoch', fontsize=14)\n",
    "#plt.legend(['Train', 'Validation'], loc='upper left', fontsize=12)\n",
    "plt.xticks(fontsize=12)\n",
    "#plt.show()\n",
    "# summarize history for loss\n",
    "plt.subplot(1, 2, 2)\n",
    "plt.plot(history['loss'])\n",
    "plt.plot(history['val_loss'])\n",
    "plt.title('Model loss', fontsize=16)\n",
    "plt.ylabel('Loss', fontsize=14)\n",
    "plt.xlabel('Epoch', fontsize=14)\n",
    "plt.legend(['Train', 'Validation'], loc='upper right', fontsize=12)\n",
    "plt.xticks(fontsize=12)\n",
    "plt.tight_layout()\n",
    "plt.savefig(\"./visualizations/classifier_resize_training.png\", dpi=200)#bbox_inches=\"tight\", dpi=200)"
   ]
  },
  {
   "cell_type": "code",
   "execution_count": 373,
   "metadata": {},
   "outputs": [
    {
     "data": {
      "text/plain": [
       "[0.2833129328030806, 0.8762019230769231]"
      ]
     },
     "execution_count": 373,
     "metadata": {},
     "output_type": "execute_result"
    }
   ],
   "source": [
    "## previous model, classifier_1\n",
    "# model.evaluate_generator(\n",
    "#         test_generator,\n",
    "#         steps=52\n",
    "# )"
   ]
  },
  {
   "cell_type": "code",
   "execution_count": 12,
   "metadata": {},
   "outputs": [],
   "source": [
    "from keras.models import load_model\n",
    "model2 = load_model(\"classifier_2.hdf5\")"
   ]
  },
  {
   "cell_type": "code",
   "execution_count": 381,
   "metadata": {},
   "outputs": [
    {
     "data": {
      "text/plain": [
       "[0.2225601478264882, 0.9014423076923077]"
      ]
     },
     "execution_count": 381,
     "metadata": {},
     "output_type": "execute_result"
    }
   ],
   "source": [
    "model2.evaluate_generator(\n",
    "        test_generator,\n",
    "        steps=52\n",
    ")"
   ]
  },
  {
   "cell_type": "code",
   "execution_count": 383,
   "metadata": {},
   "outputs": [
    {
     "name": "stderr",
     "output_type": "stream",
     "text": [
      "/home/julien/miniconda3/envs/project/lib/python3.6/site-packages/PIL/JpegImagePlugin.py:790: UserWarning: Image appears to be a malformed MPO file, it will be interpreted as a base JPEG file\n",
      "  warnings.warn(\"Image appears to be a malformed MPO file, it will be \"\n"
     ]
    },
    {
     "data": {
      "text/plain": [
       "[0.207972423101847, 0.9150641025641025]"
      ]
     },
     "execution_count": 383,
     "metadata": {},
     "output_type": "execute_result"
    }
   ],
   "source": [
    "model2.evaluate_generator(\n",
    "        test_generator,\n",
    "        steps=156\n",
    ")"
   ]
  },
  {
   "cell_type": "code",
   "execution_count": null,
   "metadata": {},
   "outputs": [],
   "source": []
  },
  {
   "cell_type": "code",
   "execution_count": 386,
   "metadata": {},
   "outputs": [
    {
     "name": "stdout",
     "output_type": "stream",
     "text": [
      "Found 10000 images belonging to 2 classes.\n"
     ]
    }
   ],
   "source": [
    "test_datagen_heatmaps = ImageDataGenerator(rescale=1./255)\n",
    "\n",
    "test_generator_heatmaps = test_datagen_heatmaps.flow_from_directory(\n",
    "    directory=\"/home/julien/crops_heatmaps/\",\n",
    "    target_size=target_size,\n",
    "    color_mode=\"rgb\",\n",
    "    batch_size=batch_size,\n",
    "    class_mode=\"categorical\",\n",
    "    shuffle=False\n",
    ")"
   ]
  },
  {
   "cell_type": "code",
   "execution_count": 387,
   "metadata": {},
   "outputs": [
    {
     "data": {
      "text/plain": [
       "[0.5007954465273099, 0.7830528846153846]"
      ]
     },
     "execution_count": 387,
     "metadata": {},
     "output_type": "execute_result"
    }
   ],
   "source": [
    "model2.evaluate_generator(\n",
    "        test_generator_heatmaps,\n",
    "        steps=156\n",
    ")"
   ]
  },
  {
   "cell_type": "code",
   "execution_count": null,
   "metadata": {},
   "outputs": [],
   "source": []
  },
  {
   "cell_type": "code",
   "execution_count": 7,
   "metadata": {},
   "outputs": [
    {
     "name": "stdout",
     "output_type": "stream",
     "text": [
      "Found 10000 images belonging to 2 classes.\n"
     ]
    }
   ],
   "source": [
    "test_datagen_heatmaps_100 = ImageDataGenerator(rescale=1./255)\n",
    "\n",
    "test_generator_heatmaps_100 = test_datagen_heatmaps_100.flow_from_directory(\n",
    "    directory=\"/home/julien/crops_heatmaps_2/\",\n",
    "    target_size=target_size,\n",
    "    color_mode=\"rgb\",\n",
    "    batch_size=batch_size,\n",
    "    class_mode=\"categorical\",\n",
    "    shuffle=False\n",
    ")"
   ]
  },
  {
   "cell_type": "code",
   "execution_count": 8,
   "metadata": {},
   "outputs": [
    {
     "data": {
      "text/plain": [
       "[0.26818434067834646, 0.8832131410256411]"
      ]
     },
     "execution_count": 8,
     "metadata": {},
     "output_type": "execute_result"
    }
   ],
   "source": [
    "model2.evaluate_generator(\n",
    "        test_generator_heatmaps_100,\n",
    "        steps=156\n",
    ")"
   ]
  },
  {
   "cell_type": "code",
   "execution_count": null,
   "metadata": {},
   "outputs": [],
   "source": []
  },
  {
   "cell_type": "code",
   "execution_count": 9,
   "metadata": {},
   "outputs": [
    {
     "name": "stdout",
     "output_type": "stream",
     "text": [
      "Found 10000 images belonging to 2 classes.\n"
     ]
    }
   ],
   "source": [
    "test_datagen_heatmaps_50 = ImageDataGenerator(rescale=1./255)\n",
    "\n",
    "test_generator_heatmaps_50 = test_datagen_heatmaps_50.flow_from_directory(\n",
    "    directory=\"/home/julien/crops_heatmaps_3/\",\n",
    "    target_size=target_size,\n",
    "    color_mode=\"rgb\",\n",
    "    batch_size=batch_size,\n",
    "    class_mode=\"categorical\",\n",
    "    shuffle=False\n",
    ")"
   ]
  },
  {
   "cell_type": "code",
   "execution_count": 10,
   "metadata": {},
   "outputs": [
    {
     "data": {
      "text/plain": [
       "[0.20768131086459526, 0.9144631410256411]"
      ]
     },
     "execution_count": 10,
     "metadata": {},
     "output_type": "execute_result"
    }
   ],
   "source": [
    "model2.evaluate_generator(\n",
    "        test_generator_heatmaps_50,\n",
    "        steps=156\n",
    ")"
   ]
  },
  {
   "cell_type": "code",
   "execution_count": null,
   "metadata": {},
   "outputs": [],
   "source": []
  },
  {
   "cell_type": "code",
   "execution_count": 16,
   "metadata": {},
   "outputs": [
    {
     "name": "stdout",
     "output_type": "stream",
     "text": [
      "Found 10000 images belonging to 2 classes.\n"
     ]
    }
   ],
   "source": [
    "test_datagen_frcnn = ImageDataGenerator(rescale=1./255)\n",
    "\n",
    "test_generator_frcnn = test_datagen_frcnn.flow_from_directory(\n",
    "    directory=\"/home/julien/crops_frcnn/\",\n",
    "    target_size=target_size,\n",
    "    color_mode=\"rgb\",\n",
    "    batch_size=batch_size,\n",
    "    class_mode=\"categorical\",\n",
    "    shuffle=False\n",
    ")"
   ]
  },
  {
   "cell_type": "code",
   "execution_count": 17,
   "metadata": {},
   "outputs": [
    {
     "data": {
      "text/plain": [
       "[0.422854070766614, 0.8238181089743589]"
      ]
     },
     "execution_count": 17,
     "metadata": {},
     "output_type": "execute_result"
    }
   ],
   "source": [
    "model2.evaluate_generator(\n",
    "    test_generator_frcnn,\n",
    "    steps=156,\n",
    ")"
   ]
  },
  {
   "cell_type": "code",
   "execution_count": null,
   "metadata": {},
   "outputs": [],
   "source": []
  }
 ],
 "metadata": {
  "kernelspec": {
   "display_name": "Python 3",
   "language": "python",
   "name": "python3"
  },
  "language_info": {
   "codemirror_mode": {
    "name": "ipython",
    "version": 3
   },
   "file_extension": ".py",
   "mimetype": "text/x-python",
   "name": "python",
   "nbconvert_exporter": "python",
   "pygments_lexer": "ipython3",
   "version": "3.6.5"
  }
 },
 "nbformat": 4,
 "nbformat_minor": 2
}
